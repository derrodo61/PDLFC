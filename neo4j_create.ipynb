{
  "nbformat": 4,
  "nbformat_minor": 0,
  "metadata": {
    "colab": {
      "provenance": [],
      "authorship_tag": "ABX9TyMb78FctJfSsQb+ikLGwbgq",
      "include_colab_link": true
    },
    "kernelspec": {
      "name": "python3",
      "display_name": "Python 3"
    },
    "language_info": {
      "name": "python"
    }
  },
  "cells": [
    {
      "cell_type": "markdown",
      "metadata": {
        "id": "view-in-github",
        "colab_type": "text"
      },
      "source": [
        "<a href=\"https://colab.research.google.com/github/derrodo61/notebooks/blob/main/neo4j_create.ipynb\" target=\"_parent\"><img src=\"https://colab.research.google.com/assets/colab-badge.svg\" alt=\"Open In Colab\"/></a>"
      ]
    },
    {
      "cell_type": "markdown",
      "source": [
        "# Basic cypher commands"
      ],
      "metadata": {
        "id": "G1cdK23q6x5U"
      }
    },
    {
      "cell_type": "markdown",
      "source": [
        "## Create nodes using MERGE"
      ],
      "metadata": {
        "id": "QyQz7sMJ7UKQ"
      }
    },
    {
      "cell_type": "markdown",
      "source": [
        "```\n",
        "LOAD CSV WITH HEADERS\n",
        "from 'https://raw.githubusercontent.com/MidnightSkyUniverse/udemyNeo4j/master/data/titles_and_skills.csv'\n",
        "AS row\n",
        "MERGE (t:Title {name: row.Title})\n",
        "```"
      ],
      "metadata": {
        "id": "oPZ-aX0c61j8"
      }
    },
    {
      "cell_type": "markdown",
      "source": [
        "```\n",
        "LOAD CSV WITH HEADERS\n",
        "from 'https://raw.githubusercontent.com/MidnightSkyUniverse/udemyNeo4j/master/data/skills_details.csv'\n",
        "AS row\n",
        "MERGE (s:Skill {name: row.Skill})\n",
        "SET\n",
        "s.id = row.ID,\n",
        "s.description = row.Description,\n",
        "s.category=row.Category\n",
        "```"
      ],
      "metadata": {
        "id": "aAXBxdzi9ayG"
      }
    },
    {
      "cell_type": "markdown",
      "source": [
        "```\n",
        "CREATE (n:Person {name: 'Alice', age: 30})\n",
        "RETURN n\n",
        "```"
      ],
      "metadata": {
        "id": "LTRYY87G_vKe"
      }
    },
    {
      "cell_type": "markdown",
      "source": [
        "## Create nodes using CREATE"
      ],
      "metadata": {
        "id": "pmPvj4tn_q6U"
      }
    },
    {
      "cell_type": "markdown",
      "source": [
        "```\n",
        "CREATE (n:Person {name: 'Alice', age: 30})\n",
        "RETURN n\n",
        "```"
      ],
      "metadata": {
        "id": "UbEk0jjxAHvX"
      }
    },
    {
      "cell_type": "markdown",
      "source": [
        "## Add property"
      ],
      "metadata": {
        "id": "YY60hnP_aB4I"
      }
    },
    {
      "cell_type": "markdown",
      "source": [
        "```\n",
        "LOAD CSV WITH HEADERS\n",
        "from 'https://raw.githubusercontent.com/MidnightSkyUniverse/udemyNeo4j/master/data/titles_and_skills.csv'\n",
        "AS row\n",
        "MATCH (t:Title {name: row.Title})\n",
        "SET t.skills = split(row.Skills, '|')\n",
        "```"
      ],
      "metadata": {
        "id": "TDBiWKLfaFQi"
      }
    },
    {
      "cell_type": "markdown",
      "source": [
        "## Remove property"
      ],
      "metadata": {
        "id": "cLM6v-d_du0F"
      }
    },
    {
      "cell_type": "markdown",
      "source": [
        "```\n",
        "MATCH (t:Title) REMOVE t.skills\n",
        "```"
      ],
      "metadata": {
        "id": "JdTwISTtdxjU"
      }
    },
    {
      "cell_type": "markdown",
      "source": [
        "## Create edges / relations"
      ],
      "metadata": {
        "id": "9LBj42AG_cTK"
      }
    },
    {
      "cell_type": "markdown",
      "source": [
        "```\n",
        "MATCH (t:Title)\n",
        "UNWIND t.skills AS skill\n",
        "MERGE (s:Skill {name: skill})\n",
        "MERGE (t)-[:REQUIRES]->(s)\n",
        "```"
      ],
      "metadata": {
        "id": "76WW1vmE_XEj"
      }
    },
    {
      "cell_type": "markdown",
      "source": [
        "## Add additional labels"
      ],
      "metadata": {
        "id": "57WJYRb5Jk5K"
      }
    },
    {
      "cell_type": "markdown",
      "source": [
        "```\n",
        "MATCH (s:Skill{category:'Certification'})\n",
        "SET s:Skill:Certification\n",
        "RETURN s.name, labels(s)\n",
        "\n",
        "MATCH (s:Skill{category:'SpecializedSkill'})\n",
        "SET s:Skill:SpecializedSkill\n",
        "RETURN s.name, labels(s)\n",
        "\n",
        "MATCH (s:Skill) REMOVE s.category\n",
        "```"
      ],
      "metadata": {
        "id": "hpyCFgmzJqc1"
      }
    },
    {
      "cell_type": "markdown",
      "source": [
        "## Match"
      ],
      "metadata": {
        "id": "-8j1HQf3-ruV"
      }
    },
    {
      "cell_type": "markdown",
      "source": [
        "```\n",
        "MATCH (n) RETURN n\n",
        "\n",
        "MATCH (n:Skill|Title) RETURN n\n",
        "\n",
        "MATCH (n:Title) RETURN n LIMIT 25\n",
        "\n",
        "MATCH (t:Title) RETURN t.name AS name, t.skills AS skills LIMIT 5\n",
        "\n",
        "MATCH (s:Skill) RETURN DISTINCT s.category\n",
        "\n",
        "MATCH (n) RETURN LABELs(n) as labels, count(*) as num\n",
        "\n",
        "MATCH (s:Skill) WHERE s.name = '.NET' RETURN s.name\n",
        "\n",
        "# case sensitive!\n",
        "MATCH (s:Skill) WHERE s.name CONTAINS ('Oracle') RETURN s\n",
        "\n",
        "MATCH (t)-[r:REQUIRES]-(s)\n",
        "RETURN t,r,s\n",
        "\n",
        "MATCH (t:Title)-[r:REQUIRES]-(s:Skill)\n",
        "RETURN t,r,s\n",
        "\n",
        "PROFILE MATCH (t)-[r:REQUIRES]-(s)\n",
        "RETURN t,r,s\n",
        "\n",
        "MATCH (t)-[r:REQUIRES]->(s:Skill)\n",
        "RETURN DISTINCT LABELS(s), count(*)\n",
        "\n",
        "PROFILE MATCH (t)-[r:REQUIRES]-(s)\n",
        "RETURN t,r,s\n",
        "\n",
        "PROFILE MATCH (t:Title)-[r:REQUIRES]-(s:Skill)\n",
        "RETURN t,r,s\n",
        "\n",
        "```"
      ],
      "metadata": {
        "id": "1FmJ9-aJt1lg"
      }
    },
    {
      "cell_type": "markdown",
      "source": [
        "## Schema procedures"
      ],
      "metadata": {
        "id": "eoyvttAyGMQj"
      }
    },
    {
      "cell_type": "markdown",
      "source": [
        "```\n",
        "call db.schema.visualization\n",
        "call db.schema.nodeTypeProperties\n",
        "call db.schema.relTypeProperties\n",
        "```"
      ],
      "metadata": {
        "id": "pyaNaDWdGPjB"
      }
    },
    {
      "cell_type": "markdown",
      "source": [
        "## Vector index"
      ],
      "metadata": {
        "id": "QpZ6ixs__b4d"
      }
    },
    {
      "cell_type": "markdown",
      "source": [
        "Create ‘embedding’ property.\n",
        "\n",
        "APOC has to be installed: https://neo4j.com/docs/apoc/current/installation/\n",
        "\n",
        "```\n",
        "LOAD CSV WITH HEADERS\n",
        "FROM 'https://raw.githubusercontent.com/MidnightSkyUniverse/udemyNeo4j/master/data/embeddings.csv'\n",
        "AS row\n",
        "MATCH (s:Skill {name: row.Skill})\n",
        "CALL db.create.setNodeVectorProperty(s,'embedding',apoc.convert.fromJsonList(row.Embedding))\n",
        "RETURN count(*)\n",
        "```"
      ],
      "metadata": {
        "id": "TTiDxT0F_4R4"
      }
    },
    {
      "cell_type": "markdown",
      "source": [
        "List Skill nodes and property ‘embedding’"
      ],
      "metadata": {
        "id": "nRZZJuXZDRkD"
      }
    },
    {
      "cell_type": "markdown",
      "source": [
        "```\n",
        "MATCH (s:Skill) RETURN s.name,\n",
        "s.embedding\n",
        "```"
      ],
      "metadata": {
        "id": "0cZvhyYLDTuF"
      }
    },
    {
      "cell_type": "markdown",
      "source": [
        "Create a vector index with\n",
        "‘SkillDescription’ as its name, add it to\n",
        "‘Skill’ node, use ‘embedding’ property\n",
        "to search through, set 384* as vector\n",
        "length, use cosine similarity as search\n",
        "function.\n",
        "\n",
        "(*) it’s important to know vector length\n",
        "that you have created. OpenAI vector\n",
        "is 1536 long. For the purpose of the\n",
        "project we used Sentence Transformer\n",
        "from LangChain which generates\n",
        "vectors 384 long"
      ],
      "metadata": {
        "id": "gETlZbLrD2l4"
      }
    },
    {
      "cell_type": "markdown",
      "source": [
        "```\n",
        "CALL db.index.vector.createNodeIndex(\n",
        "'skillDescription',\n",
        "'Skill',\n",
        "'embedding',\n",
        "384,\n",
        "'cosine'\n",
        ")\n",
        "```"
      ],
      "metadata": {
        "id": "-EoAiJCmDpN4"
      }
    },
    {
      "cell_type": "markdown",
      "source": [
        "Show vector index"
      ],
      "metadata": {
        "id": "jwYksQEeEbCp"
      }
    },
    {
      "cell_type": "markdown",
      "source": [
        "```\n",
        "SHOW INDEXES YIELD id, name, type, state,\n",
        "populationPercent WHERE type = \"VECTOR\"\n",
        "```"
      ],
      "metadata": {
        "id": "ysuRnfqsETZl"
      }
    },
    {
      "cell_type": "code",
      "source": [],
      "metadata": {
        "id": "RRHyDkLZDZM_"
      },
      "execution_count": null,
      "outputs": []
    }
  ]
}