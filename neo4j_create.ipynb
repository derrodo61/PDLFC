{
  "nbformat": 4,
  "nbformat_minor": 0,
  "metadata": {
    "colab": {
      "provenance": [],
      "authorship_tag": "ABX9TyMcdbDAQDvUA5O98XzAKX8c",
      "include_colab_link": true
    },
    "kernelspec": {
      "name": "python3",
      "display_name": "Python 3"
    },
    "language_info": {
      "name": "python"
    }
  },
  "cells": [
    {
      "cell_type": "markdown",
      "metadata": {
        "id": "view-in-github",
        "colab_type": "text"
      },
      "source": [
        "<a href=\"https://colab.research.google.com/github/derrodo61/notebooks/blob/main/neo4j_create.ipynb\" target=\"_parent\"><img src=\"https://colab.research.google.com/assets/colab-badge.svg\" alt=\"Open In Colab\"/></a>"
      ]
    },
    {
      "cell_type": "markdown",
      "source": [
        "# Create using merge"
      ],
      "metadata": {
        "id": "G1cdK23q6x5U"
      }
    },
    {
      "cell_type": "markdown",
      "source": [
        "## Create nodes"
      ],
      "metadata": {
        "id": "QyQz7sMJ7UKQ"
      }
    },
    {
      "cell_type": "markdown",
      "source": [
        "```\n",
        "LOAD CSV WITH HEADERS\n",
        "from 'https://raw.githubusercontent.com/MidnightSkyUniverse/udemyNeo4j/master/data/titles_and_skills.csv'\n",
        "AS row\n",
        "MERGE (t:Title {name: row.Title})\n",
        "```"
      ],
      "metadata": {
        "id": "oPZ-aX0c61j8"
      }
    },
    {
      "cell_type": "markdown",
      "source": [
        "```\n",
        "LOAD CSV WITH HEADERS\n",
        "from 'https://raw.githubusercontent.com/MidnightSkyUniverse/udemyNeo4j/master/data/skills_details.csv'\n",
        "AS row\n",
        "MERGE (s:Skill {name: row.Skill})\n",
        "SET\n",
        "s.id = row.ID,\n",
        "s.description = row.Description,\n",
        "s.category=row.Category\n",
        "```"
      ],
      "metadata": {
        "id": "aAXBxdzi9ayG"
      }
    },
    {
      "cell_type": "markdown",
      "source": [
        "## Create edges / relations"
      ],
      "metadata": {
        "id": "9LBj42AG_cTK"
      }
    },
    {
      "cell_type": "markdown",
      "source": [
        "```\n",
        "MATCH (t:Title)\n",
        "UNWIND t.skills AS skill\n",
        "MERGE (s:Skill {name: skill})\n",
        "MERGE (t)-[:REQUIRES]->(s)\n",
        "```"
      ],
      "metadata": {
        "id": "76WW1vmE_XEj"
      }
    },
    {
      "cell_type": "markdown",
      "source": [
        "## Match"
      ],
      "metadata": {
        "id": "-8j1HQf3-ruV"
      }
    },
    {
      "cell_type": "markdown",
      "source": [
        "```\n",
        "match (n) RETURN n\n",
        "```"
      ],
      "metadata": {
        "id": "_dJZqdHE-kKM"
      }
    },
    {
      "cell_type": "markdown",
      "source": [
        "```\n",
        "MATCH (n:Skill|Title) RETURN n\n",
        "```\n"
      ],
      "metadata": {
        "id": "QHia0BwZA6Wq"
      }
    }
  ]
}