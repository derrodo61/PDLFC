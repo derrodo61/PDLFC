{
  "nbformat": 4,
  "nbformat_minor": 0,
  "metadata": {
    "colab": {
      "provenance": [],
      "authorship_tag": "ABX9TyM3yUgyLUjmqgpS9fBHK5QX",
      "include_colab_link": true
    },
    "kernelspec": {
      "name": "python3",
      "display_name": "Python 3"
    },
    "language_info": {
      "name": "python"
    }
  },
  "cells": [
    {
      "cell_type": "markdown",
      "metadata": {
        "id": "view-in-github",
        "colab_type": "text"
      },
      "source": [
        "<a href=\"https://colab.research.google.com/github/derrodo61/notebooks/blob/main/neo4j_create.ipynb\" target=\"_parent\"><img src=\"https://colab.research.google.com/assets/colab-badge.svg\" alt=\"Open In Colab\"/></a>"
      ]
    },
    {
      "cell_type": "markdown",
      "source": [
        "# Create using merge"
      ],
      "metadata": {
        "id": "G1cdK23q6x5U"
      }
    },
    {
      "cell_type": "markdown",
      "source": [
        "## Create nodes"
      ],
      "metadata": {
        "id": "QyQz7sMJ7UKQ"
      }
    },
    {
      "cell_type": "markdown",
      "source": [
        "```\n",
        "LOAD CSV WITH HEADERS\n",
        "from 'https://raw.githubusercontent.com/MidnightSkyUniverse/udemyNeo4j/master/data/titles_and_skills.csv'\n",
        "AS row\n",
        "MERGE (t:Title {name: row.Title})\n",
        "```"
      ],
      "metadata": {
        "id": "oPZ-aX0c61j8"
      }
    },
    {
      "cell_type": "markdown",
      "source": [
        "```\n",
        "LOAD CSV WITH HEADERS\n",
        "from 'https://raw.githubusercontent.com/MidnightSkyUniverse/udemyNeo4j/master/data/skills_details.csv'\n",
        "AS row\n",
        "MERGE (s:Skill {name: row.Skill})\n",
        "SET\n",
        "s.id = row.ID,\n",
        "s.description = row.Description,\n",
        "s.category=row.Category\n",
        "```"
      ],
      "metadata": {
        "id": "aAXBxdzi9ayG"
      }
    },
    {
      "cell_type": "markdown",
      "source": [
        "## Add property"
      ],
      "metadata": {
        "id": "YY60hnP_aB4I"
      }
    },
    {
      "cell_type": "markdown",
      "source": [
        "```\n",
        "LOAD CSV WITH HEADERS\n",
        "from 'https://raw.githubusercontent.com/MidnightSkyUniverse/udemyNeo4j/master/data/titles_and_skills.csv'\n",
        "AS row\n",
        "MATCH (t:Title {name: row.Title})\n",
        "SET t.skills = split(row.Skills, '|')\n",
        "```"
      ],
      "metadata": {
        "id": "TDBiWKLfaFQi"
      }
    },
    {
      "cell_type": "markdown",
      "source": [
        "## Remove property"
      ],
      "metadata": {
        "id": "cLM6v-d_du0F"
      }
    },
    {
      "cell_type": "markdown",
      "source": [
        "```\n",
        "MATCH (t:Title) REMOVE t.skills\n",
        "```"
      ],
      "metadata": {
        "id": "JdTwISTtdxjU"
      }
    },
    {
      "cell_type": "markdown",
      "source": [
        "## Create edges / relations"
      ],
      "metadata": {
        "id": "9LBj42AG_cTK"
      }
    },
    {
      "cell_type": "markdown",
      "source": [
        "```\n",
        "MATCH (t:Title)\n",
        "UNWIND t.skills AS skill\n",
        "MERGE (s:Skill {name: skill})\n",
        "MERGE (t)-[:REQUIRES]->(s)\n",
        "```"
      ],
      "metadata": {
        "id": "76WW1vmE_XEj"
      }
    },
    {
      "cell_type": "markdown",
      "source": [
        "## Add additional labels"
      ],
      "metadata": {
        "id": "57WJYRb5Jk5K"
      }
    },
    {
      "cell_type": "markdown",
      "source": [
        "```\n",
        "MATCH (s:Skill{category:'Certification'})\n",
        "SET s:Skill:Certification\n",
        "RETURN s.name, labels(s)\n",
        "\n",
        "MATCH (s:Skill{category:'SpecializedSkill'})\n",
        "SET s:Skill:SpecializedSkill\n",
        "RETURN s.name, labels(s)\n",
        "\n",
        "MATCH (s:Skill) REMOVE s.category\n",
        "```"
      ],
      "metadata": {
        "id": "hpyCFgmzJqc1"
      }
    },
    {
      "cell_type": "markdown",
      "source": [
        "## Match"
      ],
      "metadata": {
        "id": "-8j1HQf3-ruV"
      }
    },
    {
      "cell_type": "markdown",
      "source": [
        "```\n",
        "match (n) RETURN n\n",
        "```"
      ],
      "metadata": {
        "id": "_dJZqdHE-kKM"
      }
    },
    {
      "cell_type": "markdown",
      "source": [
        "```\n",
        "MATCH (n:Skill|Title) RETURN n\n",
        "```\n"
      ],
      "metadata": {
        "id": "QHia0BwZA6Wq"
      }
    },
    {
      "cell_type": "markdown",
      "source": [
        "```\n",
        "MATCH (n:Title) RETURN n LIMIT 25\n",
        "```\n"
      ],
      "metadata": {
        "id": "CkTMBpq-XkAg"
      }
    },
    {
      "cell_type": "markdown",
      "source": [
        "```\n",
        "MATCH (t:Title) RETURN t.name AS name, t.skills AS skills LIMIT 5\n",
        "```\n"
      ],
      "metadata": {
        "id": "lKmSuJ9xalGT"
      }
    },
    {
      "cell_type": "markdown",
      "source": [
        "```\n",
        "MATCH (s:Skill) RETURN DISTINCT s.category\n",
        "```"
      ],
      "metadata": {
        "id": "dWXVsAIAI3wk"
      }
    },
    {
      "cell_type": "markdown",
      "source": [
        "## Schema procedures"
      ],
      "metadata": {
        "id": "eoyvttAyGMQj"
      }
    },
    {
      "cell_type": "markdown",
      "source": [
        "```\n",
        "call db.schema.visualization\n",
        "call db.schema.nodeTypeProperties\n",
        "call db.schema.relTypeProperties\n",
        "```"
      ],
      "metadata": {
        "id": "pyaNaDWdGPjB"
      }
    },
    {
      "cell_type": "code",
      "source": [],
      "metadata": {
        "id": "uoQNT4fNGSao"
      },
      "execution_count": null,
      "outputs": []
    }
  ]
}