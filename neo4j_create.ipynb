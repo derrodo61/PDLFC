{
  "nbformat": 4,
  "nbformat_minor": 0,
  "metadata": {
    "colab": {
      "provenance": [],
      "authorship_tag": "ABX9TyMLvCG3/PhUrS6C/2Bqfk0g",
      "include_colab_link": true
    },
    "kernelspec": {
      "name": "python3",
      "display_name": "Python 3"
    },
    "language_info": {
      "name": "python"
    }
  },
  "cells": [
    {
      "cell_type": "markdown",
      "metadata": {
        "id": "view-in-github",
        "colab_type": "text"
      },
      "source": [
        "<a href=\"https://colab.research.google.com/github/derrodo61/notebooks/blob/main/neo4j_create.ipynb\" target=\"_parent\"><img src=\"https://colab.research.google.com/assets/colab-badge.svg\" alt=\"Open In Colab\"/></a>"
      ]
    },
    {
      "cell_type": "markdown",
      "source": [
        "# Basic cypher commands"
      ],
      "metadata": {
        "id": "G1cdK23q6x5U"
      }
    },
    {
      "cell_type": "markdown",
      "source": [
        "## Create nodes using MERGE"
      ],
      "metadata": {
        "id": "QyQz7sMJ7UKQ"
      }
    },
    {
      "cell_type": "markdown",
      "source": [
        "```\n",
        "# Note that when you use MERGE to create a node, you must specify\n",
        "# at least one property that will be the unique primary key for the node.\n",
        "\n",
        "MERGE (p:Person {name: 'Michael Caine'})\n",
        "\n",
        "# multiple MERGE claused in 1 code block\n",
        "\n",
        "MERGE (p:Person {name: 'Katie Holmes'})\n",
        "MERGE (m:Movie {title: 'The Dark Knight'})\n",
        "RETURN p, m\n",
        "```"
      ],
      "metadata": {
        "id": "0Xc4svFvBNjX"
      }
    },
    {
      "cell_type": "markdown",
      "source": [
        "```\n",
        "LOAD CSV WITH HEADERS\n",
        "from 'https://raw.githubusercontent.com/MidnightSkyUniverse/udemyNeo4j/master/data/titles_and_skills.csv'\n",
        "AS row\n",
        "MERGE (t:Title {name: row.Title})\n",
        "```"
      ],
      "metadata": {
        "id": "oPZ-aX0c61j8"
      }
    },
    {
      "cell_type": "markdown",
      "source": [
        "```\n",
        "LOAD CSV WITH HEADERS\n",
        "from 'https://raw.githubusercontent.com/MidnightSkyUniverse/udemyNeo4j/master/data/skills_details.csv'\n",
        "AS row\n",
        "MERGE (s:Skill {name: row.Skill})\n",
        "SET\n",
        "s.id = row.ID,\n",
        "s.description = row.Description,\n",
        "s.category=row.Category\n",
        "```"
      ],
      "metadata": {
        "id": "aAXBxdzi9ayG"
      }
    },
    {
      "cell_type": "markdown",
      "source": [
        "## Create nodes using CREATE\n",
        "\n",
        "CREATE does not look up the primary key before adding the node -> faster than MERGE."
      ],
      "metadata": {
        "id": "pmPvj4tn_q6U"
      }
    },
    {
      "cell_type": "markdown",
      "source": [
        "```\n",
        "CREATE (n:Person {name: 'Alice', age: 30})\n",
        "RETURN n\n",
        "```"
      ],
      "metadata": {
        "id": "UbEk0jjxAHvX"
      }
    },
    {
      "cell_type": "markdown",
      "source": [
        "## `DELETE` nodes"
      ],
      "metadata": {
        "id": "agGCgPeKITvw"
      }
    },
    {
      "cell_type": "markdown",
      "source": [
        "```\n",
        "MATCH (p:Person)\n",
        "WHERE p.name = 'Jane Doe'\n",
        "DELETE p\n",
        "```"
      ],
      "metadata": {
        "id": "7RqQJnoaIagE"
      }
    },
    {
      "cell_type": "markdown",
      "source": [
        "## Add property"
      ],
      "metadata": {
        "id": "YY60hnP_aB4I"
      }
    },
    {
      "cell_type": "markdown",
      "source": [
        "### Inline as part of the `merge` clause"
      ],
      "metadata": {
        "id": "tGCbxQaFAIRF"
      }
    },
    {
      "cell_type": "markdown",
      "source": [
        "```\n",
        "MATCH (p:Person {name: 'Michael Caine'})\n",
        "MERGE (m:Movie {title: 'Batman Begins'})\n",
        "MERGE (p)-[:ACTED_IN {roles: ['Alfred Penny']}]->(m)\n",
        "RETURN p,m\n",
        "```"
      ],
      "metadata": {
        "id": "V9XzOPue_oyN"
      }
    },
    {
      "cell_type": "markdown",
      "source": [
        "### Using `SET``"
      ],
      "metadata": {
        "id": "XeYolql6AaNg"
      }
    },
    {
      "cell_type": "markdown",
      "source": [
        "```\n",
        "MATCH (p:Person)-[r:ACTED_IN]->(m:Movie)\n",
        "WHERE p.name = 'Michael Caine' AND m.title = 'The Dark Knight'\n",
        "SET r.roles = ['Alfred Penny']\n",
        "RETURN p, r, m\n",
        "\n",
        "# multiple properties\n",
        "\n",
        "MATCH (p:Person)-[r:ACTED_IN]->(m:Movie)\n",
        "WHERE p.name = 'Michael Caine' AND m.title = 'The Dark Knight'\n",
        "SET r.roles = ['Alfred Penny'], m.released = 2008\n",
        "RETURN p, r, m\n",
        "\n",
        "# csv import\n",
        "\n",
        "LOAD CSV WITH HEADERS\n",
        "from 'https://raw.githubusercontent.com/MidnightSkyUniverse/udemyNeo4j/master/data/titles_and_skills.csv'\n",
        "AS row\n",
        "MATCH (t:Title {name: row.Title})\n",
        "SET t.skills = split(row.Skills, '|')\n",
        "```"
      ],
      "metadata": {
        "id": "TDBiWKLfaFQi"
      }
    },
    {
      "cell_type": "markdown",
      "source": [
        "## Remove property\n",
        "\n",
        "by using the REMOVE keyword, or setting the property to null.\n",
        "\n",
        "You should never remove the property that is used as the primary key for a node."
      ],
      "metadata": {
        "id": "cLM6v-d_du0F"
      }
    },
    {
      "cell_type": "markdown",
      "source": [
        "```\n",
        "# from nodes\n",
        "\n",
        "MATCH (t:Title)\n",
        "REMOVE t.skills\n",
        "\n",
        "MATCH (p:Person)\n",
        "WHERE p.name = 'Gene Hackman'\n",
        "SET p.born = null\n",
        "RETURN p\n",
        "\n",
        "# from relations\n",
        "\n",
        "MATCH (p:Person)-[r:ACTED_IN]->(m:Movie)\n",
        "WHERE p.name = 'Michael Caine' AND m.title = 'The Dark Knight'\n",
        "REMOVE r.roles\n",
        "RETURN p, r, m\n",
        "\n",
        "```"
      ],
      "metadata": {
        "id": "JdTwISTtdxjU"
      }
    },
    {
      "cell_type": "markdown",
      "source": [
        "# Update property"
      ],
      "metadata": {
        "id": "Xi5GvUjG_QiU"
      }
    },
    {
      "cell_type": "markdown",
      "source": [
        "```\n",
        "MATCH (p:Person)-[r:ACTED_IN]->(m:Movie)\n",
        "WHERE p.name = 'Michael Caine' AND m.title = 'The Dark Knight'\n",
        "SET r.roles = ['Mr. Alfred Penny']\n",
        "RETURN p, r, m\n",
        "```"
      ],
      "metadata": {
        "id": "j3D2mZlh_Tp0"
      }
    },
    {
      "cell_type": "markdown",
      "source": [
        "## Create edges / relations\n",
        "\n",
        "By default, if you do not specify the direction when you create the relationship, it will always be assumed left-to-right."
      ],
      "metadata": {
        "id": "9LBj42AG_cTK"
      }
    },
    {
      "cell_type": "markdown",
      "source": [
        "```\n",
        "MATCH (p:Person {name: 'Michael Caine'})\n",
        "MATCH (m:Movie {title: 'The Dark Knight'})\n",
        "MERGE (p)-[:ACTED_IN]->(m)\n",
        "\n",
        "# check\n",
        "MATCH (p:Person {name: 'Michael Caine'})-[:ACTED_IN]-(m:Movie {title: 'The Dark Knight'})\n",
        "RETURN p, m\n",
        "\n",
        "# This code successfully creates the nodes and relationship:\n",
        "MERGE (p:Person {name: 'Emily Blunt'})-[:ACTED_IN]->(m:Movie {title: 'A Quiet Place'})\n",
        "RETURN p, m\n",
        "\n",
        "# step by step\n",
        "\n",
        "// Find or create a person with this name\n",
        "MERGE (p:Person {name: 'Michael Caine'})\n",
        "\n",
        "// Find or create a movie with this title\n",
        "MERGE (m:Movie {title: 'The Cider House Rules'})\n",
        "\n",
        "// Find or create a relationship between the two nodes\n",
        "MERGE (p)-[:ACTED_IN]->(m)\n",
        "\n",
        "# special case using UNWIND\n",
        "\n",
        "MATCH (t:Title)\n",
        "UNWIND t.skills AS skill\n",
        "MERGE (s:Skill {name: skill})\n",
        "MERGE (t)-[:REQUIRES]->(s)\n",
        "```"
      ],
      "metadata": {
        "id": "76WW1vmE_XEj"
      }
    },
    {
      "cell_type": "markdown",
      "source": [
        "## Add additional labels"
      ],
      "metadata": {
        "id": "57WJYRb5Jk5K"
      }
    },
    {
      "cell_type": "markdown",
      "source": [
        "```\n",
        "MATCH (s:Skill{category:'Certification'})\n",
        "SET s:Skill:Certification\n",
        "RETURN s.name, labels(s)\n",
        "\n",
        "MATCH (s:Skill{category:'SpecializedSkill'})\n",
        "SET s:Skill:SpecializedSkill\n",
        "RETURN s.name, labels(s)\n",
        "\n",
        "MATCH (s:Skill) REMOVE s.category\n",
        "```"
      ],
      "metadata": {
        "id": "hpyCFgmzJqc1"
      }
    },
    {
      "cell_type": "markdown",
      "source": [
        "## Delete a label"
      ],
      "metadata": {
        "id": "xgss6EEBKkLy"
      }
    },
    {
      "cell_type": "markdown",
      "source": [
        "```\n",
        "MATCH (p:Person {name: 'Jane Doe'})\n",
        "REMOVE p:Developer\n",
        "RETURN p\n",
        "```"
      ],
      "metadata": {
        "id": "QBzru_i1Kttb"
      }
    },
    {
      "cell_type": "markdown",
      "source": [
        "## Delete relationships (and nodes)"
      ],
      "metadata": {
        "id": "k-iCt_H8Iyd7"
      }
    },
    {
      "cell_type": "markdown",
      "source": [
        "```\n",
        "# deletes a relationship\n",
        "\n",
        "MATCH (p:Person {name: 'Jane Doe'})-[r:ACTED_IN]->(m:Movie {title: 'The Matrix'})\n",
        "DELETE r\n",
        "RETURN p, m\n",
        "\n",
        "# deletes a node and all its relationships\n",
        "\n",
        "MATCH (p:Person {name: 'Jane Doe'})\n",
        "DETACH DELETE p\n",
        "```"
      ],
      "metadata": {
        "id": "7ReDlDF7I3P7"
      }
    },
    {
      "cell_type": "markdown",
      "source": [
        "## Match"
      ],
      "metadata": {
        "id": "-8j1HQf3-ruV"
      }
    },
    {
      "cell_type": "markdown",
      "source": [
        "```\n",
        "MATCH (n) RETURN n\n",
        "\n",
        "MATCH (n:Skill|Title) RETURN n\n",
        "\n",
        "MATCH (n:Title) RETURN n LIMIT 25\n",
        "\n",
        "MATCH (t:Title) RETURN t.name AS name, t.skills AS skills LIMIT 5\n",
        "\n",
        "MATCH (s:Skill) RETURN DISTINCT s.category\n",
        "\n",
        "MATCH (n) RETURN LABELs(n) as labels, count(*) as\n",
        "\n",
        "MATCH (s:Skill) WHERE s.name = '.NET' RETURN s.name\n",
        "\n",
        "# case sensitive!\n",
        "MATCH (s:Skill) WHERE s.name CONTAINS ('Oracle') RETURN s\n",
        "\n",
        "MATCH (t)-[r:REQUIRES]-(s)\n",
        "RETURN t,r,s\n",
        "\n",
        "MATCH (t:Title)-[r:REQUIRES]-(s:Skill)\n",
        "RETURN t,r,s\n",
        "\n",
        "PROFILE MATCH (t)-[r:REQUIRES]-(s)\n",
        "RETURN t,r,s\n",
        "\n",
        "MATCH (t)-[r:REQUIRES]->(s:Skill)\n",
        "RETURN DISTINCT LABELS(s), count(*)\n",
        "\n",
        "# get the number of directors of the movie 'Cloud Atlas'\n",
        "MATCH (m:Movie {title: 'Cloud Atlas'})<-[:DIRECTED]-(p)  RETURN COUNT(p) as num\n",
        "\n",
        "PROFILE MATCH (t)-[r:REQUIRES]-(s)\n",
        "RETURN t,r,s\n",
        "\n",
        "PROFILE MATCH (t:Title)-[r:REQUIRES]-(s:Skill)\n",
        "RETURN t,r,s\n",
        "\n",
        "#Filtering\n",
        "\n",
        "MATCH (p:Person)-[:ACTED_IN]->(m:Movie)\n",
        "WHERE m.released = 2008 OR m.released = 2009\n",
        "RETURN p, m\n",
        "\n",
        "MATCH (p)-[:ACTED_IN]->(m)\n",
        "WHERE p:Person AND m:Movie AND m.title='The Matrix'\n",
        "RETURN p.name\n",
        "\n",
        "MATCH (p:Person)-[:ACTED_IN]->(m:Movie)\n",
        "WHERE 2000 <= m.released <= 2003\n",
        "RETURN p.name, m.title, m.released\n",
        "\n",
        "MATCH (p:Person)-[:ACTED_IN]->(m:Movie)\n",
        "WHERE p.name='Jack Nicholson' AND m.tagline IS NOT NULL\n",
        "RETURN m.title, m.tagline\n",
        "\n",
        "# Cypher has a set of string-related keywords that you can\n",
        "# use in your WHERE clauses to test string property values.\n",
        "# You can specify STARTS WITH, ENDS WITH, and CONTAINS.\n",
        "\n",
        "MATCH (p:Person)-[:ACTED_IN]->()\n",
        "WHERE p.name STARTS WITH 'Michael'\n",
        "RETURN p.name\n",
        "\n",
        "MATCH (p:Person)-[:ACTED_IN]->()\n",
        "WHERE toLower(p.name) STARTS WITH 'michael'\n",
        "RETURN p.name\n",
        "\n",
        "# exclude (specific relationships): exists\n",
        "\n",
        "MATCH (p:Person)-[:WROTE]->(m:Movie)\n",
        "WHERE NOT exists( (p)-[:DIRECTED]->(m) )\n",
        "RETURN p.name, m.title\n",
        "\n",
        "# lists (all list elements have the same type)\n",
        "\n",
        "MATCH (p:Person)\n",
        "WHERE p.born IN [1965, 1970, 1975]\n",
        "RETURN p.name, p.born\n",
        "\n",
        "# check if 'Neo' is in the list: IN\n",
        "\n",
        "MATCH (p:Person)-[r:ACTED_IN]->(m:Movie)\n",
        "WHERE  'Neo' IN r.roles AND m.title='The Matrix'\n",
        "RETURN p.name, r.roles\n",
        "\n",
        "# return the keys (property names) of nodes\n",
        "\n",
        "MATCH (p:Person)\n",
        "RETURN p.name, keys(p)\n",
        "\n",
        "# show all properties of a graph\n",
        "\n",
        "CALL db.propertyKeys()\n",
        "\n",
        "\n",
        "\n",
        "```"
      ],
      "metadata": {
        "id": "1FmJ9-aJt1lg"
      }
    },
    {
      "cell_type": "markdown",
      "source": [
        "## Customizing `MERGE` behavior"
      ],
      "metadata": {
        "id": "hmxLjY844uVV"
      }
    },
    {
      "cell_type": "markdown",
      "source": [
        "\n",
        "If you want to set multiple properties for an ON CREATE SET or ON MATCH SET clause, you separate them by commas."
      ],
      "metadata": {
        "id": "TRnCg8rh5Cc1"
      }
    },
    {
      "cell_type": "markdown",
      "source": [
        "```\n",
        "// Find or create a person with this name\n",
        "MERGE (p:Person {name: 'McKenna Grace'})\n",
        "\n",
        "// Only set the `createdAt` property if the node is created during this query\n",
        "ON CREATE SET p.createdAt = datetime()\n",
        "\n",
        "// Only set the `updatedAt` property if the node was created previously\n",
        "ON MATCH SET p.updatedAt = datetime()\n",
        "\n",
        "// Set the `born` property regardless\n",
        "SET p.born = 2006\n",
        "\n",
        "RETURN p\n",
        "```"
      ],
      "metadata": {
        "id": "1Bi8ACHf40nX"
      }
    },
    {
      "cell_type": "markdown",
      "source": [
        "## Schema procedures"
      ],
      "metadata": {
        "id": "eoyvttAyGMQj"
      }
    },
    {
      "cell_type": "markdown",
      "source": [
        "```\n",
        "call db.schema.visualization\n",
        "call db.schema.nodeTypeProperties\n",
        "call db.schema.relTypeProperties\n",
        "```"
      ],
      "metadata": {
        "id": "pyaNaDWdGPjB"
      }
    },
    {
      "cell_type": "markdown",
      "source": [
        "## Vector index"
      ],
      "metadata": {
        "id": "QpZ6ixs__b4d"
      }
    },
    {
      "cell_type": "markdown",
      "source": [
        "Create ‘embedding’ property.\n",
        "\n",
        "APOC has to be installed: https://neo4j.com/docs/apoc/current/installation/\n",
        "\n",
        "```\n",
        "LOAD CSV WITH HEADERS\n",
        "FROM 'https://raw.githubusercontent.com/MidnightSkyUniverse/udemyNeo4j/master/data/embeddings.csv'\n",
        "AS row\n",
        "MATCH (s:Skill {name: row.Skill})\n",
        "CALL db.create.setNodeVectorProperty(s,'embedding',apoc.convert.fromJsonList(row.Embedding))\n",
        "RETURN count(*)\n",
        "```"
      ],
      "metadata": {
        "id": "TTiDxT0F_4R4"
      }
    },
    {
      "cell_type": "markdown",
      "source": [
        "List Skill nodes and property ‘embedding’"
      ],
      "metadata": {
        "id": "nRZZJuXZDRkD"
      }
    },
    {
      "cell_type": "markdown",
      "source": [
        "```\n",
        "MATCH (s:Skill) RETURN s.name,\n",
        "s.embedding\n",
        "```"
      ],
      "metadata": {
        "id": "0cZvhyYLDTuF"
      }
    },
    {
      "cell_type": "markdown",
      "source": [
        "Create a vector index with\n",
        "‘SkillDescription’ as its name, add it to\n",
        "‘Skill’ node, use ‘embedding’ property\n",
        "to search through, set 384* as vector\n",
        "length, use cosine similarity as search\n",
        "function.\n",
        "\n",
        "(*) it’s important to know vector length\n",
        "that you have created. OpenAI vector\n",
        "is 1536 long. For the purpose of the\n",
        "project we used Sentence Transformer\n",
        "from LangChain which generates\n",
        "vectors 384 long"
      ],
      "metadata": {
        "id": "gETlZbLrD2l4"
      }
    },
    {
      "cell_type": "markdown",
      "source": [
        "```\n",
        "CALL db.index.vector.createNodeIndex(\n",
        "'skillDescription',\n",
        "'Skill',\n",
        "'embedding',\n",
        "384,\n",
        "'cosine'\n",
        ")\n",
        "```"
      ],
      "metadata": {
        "id": "-EoAiJCmDpN4"
      }
    },
    {
      "cell_type": "markdown",
      "source": [
        "Show vector index"
      ],
      "metadata": {
        "id": "jwYksQEeEbCp"
      }
    },
    {
      "cell_type": "markdown",
      "source": [
        "```\n",
        "SHOW INDEXES YIELD id, name, type, state,\n",
        "populationPercent WHERE type = \"VECTOR\"\n",
        "```"
      ],
      "metadata": {
        "id": "ysuRnfqsETZl"
      }
    },
    {
      "cell_type": "markdown",
      "source": [
        "## Show all labels"
      ],
      "metadata": {
        "id": "pFUjEabfLSv8"
      }
    },
    {
      "cell_type": "markdown",
      "source": [
        "```\n",
        "CALL db.labels()\n",
        "```"
      ],
      "metadata": {
        "id": "Spq115X0LcoL"
      }
    },
    {
      "cell_type": "markdown",
      "source": [
        "## Refactoring / Using specific realtionships"
      ],
      "metadata": {
        "id": "dTI52ycJvR_4"
      }
    },
    {
      "cell_type": "markdown",
      "source": [
        "Create new relationships based on properties:\n",
        "\n",
        "```\n",
        "MATCH (n:Actor)-[:ACTED_IN]->(m:Movie)\n",
        "CALL apoc.merge.relationship(n,\n",
        "  'ACTED_IN_' + left(m.released,4),\n",
        "  {},\n",
        "  {},\n",
        "  m ,\n",
        "  {}\n",
        ") YIELD rel\n",
        "RETURN count(*) AS `Number of relationships merged`;\n",
        "```"
      ],
      "metadata": {
        "id": "F3wUjbLXviaX"
      }
    },
    {
      "cell_type": "code",
      "source": [],
      "metadata": {
        "id": "uVXUIlvrvhG6"
      },
      "execution_count": null,
      "outputs": []
    }
  ]
}