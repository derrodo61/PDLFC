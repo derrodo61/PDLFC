{
  "nbformat": 4,
  "nbformat_minor": 0,
  "metadata": {
    "colab": {
      "provenance": [],
      "authorship_tag": "ABX9TyM9WV40b/LJweg/StpevlwB",
      "include_colab_link": true
    },
    "kernelspec": {
      "name": "python3",
      "display_name": "Python 3"
    },
    "language_info": {
      "name": "python"
    }
  },
  "cells": [
    {
      "cell_type": "markdown",
      "metadata": {
        "id": "view-in-github",
        "colab_type": "text"
      },
      "source": [
        "<a href=\"https://colab.research.google.com/github/derrodo61/notebooks/blob/main/copy_google_drive.ipynb\" target=\"_parent\"><img src=\"https://colab.research.google.com/assets/colab-badge.svg\" alt=\"Open In Colab\"/></a>"
      ]
    },
    {
      "cell_type": "markdown",
      "source": [
        "# Copy data from or to Google Drive"
      ],
      "metadata": {
        "id": "CBuYZe9Q2vI5"
      }
    },
    {
      "cell_type": "markdown",
      "source": [
        "**Mount the drive**"
      ],
      "metadata": {
        "id": "-tf1BfJU28KN"
      }
    },
    {
      "cell_type": "code",
      "source": [
        "from google.colab import drive\n",
        "drive.mount('/content/drive')"
      ],
      "metadata": {
        "id": "5J_l8TWg2zHo"
      },
      "execution_count": null,
      "outputs": []
    },
    {
      "cell_type": "markdown",
      "source": [
        "Then the data can be moved using the UI via drag and drop."
      ],
      "metadata": {
        "id": "8DirNZ9Z3CaA"
      }
    },
    {
      "cell_type": "code",
      "source": [],
      "metadata": {
        "id": "vBpYzbsd3KHA"
      },
      "execution_count": null,
      "outputs": []
    }
  ]
}