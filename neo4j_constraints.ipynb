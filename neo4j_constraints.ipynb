{
  "nbformat": 4,
  "nbformat_minor": 0,
  "metadata": {
    "colab": {
      "provenance": [],
      "collapsed_sections": [
        "Yl9QLB8Y0ASh",
        "9ibU2a_Cz6IQ"
      ],
      "authorship_tag": "ABX9TyPHoSZhsvAygTiEdioZRTEN",
      "include_colab_link": true
    },
    "kernelspec": {
      "name": "python3",
      "display_name": "Python 3"
    },
    "language_info": {
      "name": "python"
    }
  },
  "cells": [
    {
      "cell_type": "markdown",
      "metadata": {
        "id": "view-in-github",
        "colab_type": "text"
      },
      "source": [
        "<a href=\"https://colab.research.google.com/github/derrodo61/notebooks/blob/main/neo4j_constraints.ipynb\" target=\"_parent\"><img src=\"https://colab.research.google.com/assets/colab-badge.svg\" alt=\"Open In Colab\"/></a>"
      ]
    },
    {
      "cell_type": "markdown",
      "source": [
        "# Constraints"
      ],
      "metadata": {
        "id": "K34DOSzCzh72"
      }
    },
    {
      "cell_type": "markdown",
      "source": [
        "In the context of Neo4j, constraints are rules applied to the database to enforce data integrity and maintain consistency. They help ensure that the data adheres to specific criteria, such as uniqueness or the presence of certain properties. Constraints can improve query performance by providing the database with more information about the data structure. Here are the main types of constraints available in Neo4j:"
      ],
      "metadata": {
        "id": "15uGObPVx8iH"
      }
    },
    {
      "cell_type": "markdown",
      "source": [
        "## 1. Unique Constraints"
      ],
      "metadata": {
        "id": "Yl9QLB8Y0ASh"
      }
    },
    {
      "cell_type": "markdown",
      "source": [
        "Unique constraints ensure that a particular property or a combination of properties on nodes are unique across the database. They prevent duplicate values for the specified properties.\n",
        "\n",
        "**Example:**\n",
        "\n",
        "```\n",
        "// Ensure that the property 'email' on nodes with the label 'User' is unique\n",
        "CREATE CONSTRAINT ON (u:User) ASSERT u.email IS UNIQUE;\n",
        "```\n"
      ],
      "metadata": {
        "id": "Gpm3Fithy6GJ"
      }
    },
    {
      "cell_type": "markdown",
      "source": [
        "## 2. Node Key Constraints"
      ],
      "metadata": {
        "id": "9ibU2a_Cz6IQ"
      }
    },
    {
      "cell_type": "markdown",
      "source": [
        "Node key constraints ensure that a combination of properties on nodes are unique and that all properties in the key are present. This effectively combines a unique constraint with a property existence constraint.\n",
        "\n",
        "**Example:**\n",
        "\n",
        "```\n",
        "// Ensure that the combination of 'firstname' and 'lastname' is unique for nodes with the label 'Person'\n",
        "CREATE CONSTRAINT ON (p:Person) ASSERT (p.firstname, p.lastname) IS NODE KEY;\n",
        "```"
      ],
      "metadata": {
        "id": "sa1PJSQqzN_k"
      }
    },
    {
      "cell_type": "markdown",
      "source": [
        "## 3. Existence Constraints"
      ],
      "metadata": {
        "id": "mnndvimUz1Jx"
      }
    },
    {
      "cell_type": "markdown",
      "source": [
        "Existence constraints ensure that a particular property exists on all nodes or relationships with a specific label or type. This means that the property cannot be null or missing.\n",
        "\n",
        "**Example:**\n",
        "\n",
        "```\n",
        "// Ensure that all nodes with the label 'Product' have a 'name' property\n",
        "CREATE CONSTRAINT ON (p:Product) ASSERT exists(p.name);\n",
        "\n",
        "// Ensure that all relationships of type 'PURCHASED' have a 'date' property\n",
        "CREATE CONSTRAINT ON ()-[r:PURCHASED]-() ASSERT exists(r.date);\n",
        "```"
      ],
      "metadata": {
        "id": "8VGZw8JJzu5A"
      }
    },
    {
      "cell_type": "markdown",
      "source": [
        "## 4. Relationship Property Existence Constraints"
      ],
      "metadata": {
        "id": "gr-AEgmY0P3H"
      }
    },
    {
      "cell_type": "markdown",
      "source": [
        "These constraints ensure that a specific property exists on all relationships of a given type.\n",
        "\n",
        "**Example:**\n",
        "\n",
        "```\n",
        "// Ensure that all relationships of type 'FRIEND' have a 'since' property\n",
        "CREATE CONSTRAINT ON ()-[r:FRIEND]-() ASSERT exists(r.since);\n",
        "```"
      ],
      "metadata": {
        "id": "9RsgMsrk0U7m"
      }
    },
    {
      "cell_type": "markdown",
      "source": [
        "## Managing Constraints"
      ],
      "metadata": {
        "id": "proy8Swj04XB"
      }
    },
    {
      "cell_type": "markdown",
      "source": [
        "To list all constraints in the database:\n",
        "\n",
        "```\n",
        "// Show all constraints\n",
        "SHOW ALL CONSTRAINTS;\n",
        "```"
      ],
      "metadata": {
        "id": "BBVuZ3dQ0pWn"
      }
    },
    {
      "cell_type": "markdown",
      "source": [
        "To drop a constraint:\n",
        "\n",
        "```\n",
        "// Drop a constraint on the 'email' property of nodes with the label 'User'\n",
        "DROP CONSTRAINT ON (u:User) ASSERT u.email IS UNIQUE;\n",
        "```"
      ],
      "metadata": {
        "id": "GsbOHL4a0w59"
      }
    },
    {
      "cell_type": "markdown",
      "source": [
        "## Samples"
      ],
      "metadata": {
        "id": "DFxoO5iI0_cb"
      }
    },
    {
      "cell_type": "markdown",
      "source": [
        "```\n",
        "CREATE CONSTRAINT skillUnique\n",
        "IF NOT EXISTS\n",
        "FOR (s:Skill)\n",
        "REQUIRE s.name IS UNIQUE;\n",
        "```"
      ],
      "metadata": {
        "id": "dCGA7Io71Ehx"
      }
    },
    {
      "cell_type": "markdown",
      "source": [
        "1. **CREATE CONSTRAINT skillUnique**:\n",
        "   - This part of the statement is creating a new constraint and naming it `skillUnique`. Naming constraints can help in identifying and managing them later.\n",
        "\n",
        "2. **IF NOT EXISTS**:\n",
        "   - This clause ensures that the constraint is only created if it does not already exist. This prevents errors or duplicate constraints from being created if the constraint is already defined in the database.\n",
        "\n",
        "3. **FOR (s:Skill)**:\n",
        "   - This specifies the scope of the constraint. In this case, the constraint is applied to nodes with the label `Skill`. The `(s:Skill)` part means that `s` is a variable representing nodes with the label `Skill`.\n",
        "\n",
        "4. **REQUIRE s.name IS UNIQUE**:\n",
        "   - This clause defines the actual constraint. It requires that the `name` property on `Skill` nodes must be unique. This means that no two `Skill` nodes can have the same `name` property value."
      ],
      "metadata": {
        "id": "JlT1e-3q1Z7f"
      }
    },
    {
      "cell_type": "markdown",
      "source": [
        "```\n",
        "CREATE CONSTRAINT titleUnique\n",
        "IF NOT EXISTS\n",
        "FOR (t:Title)\n",
        "REQUIRE t.name IS UNIQUE;\n",
        "```"
      ],
      "metadata": {
        "id": "tJrk--Jd44Fz"
      }
    },
    {
      "cell_type": "code",
      "source": [],
      "metadata": {
        "id": "DnB8NEQe1BxO"
      },
      "execution_count": null,
      "outputs": []
    }
  ]
}