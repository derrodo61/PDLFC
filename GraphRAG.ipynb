{
  "nbformat": 4,
  "nbformat_minor": 0,
  "metadata": {
    "colab": {
      "provenance": [],
      "authorship_tag": "ABX9TyOB5NQwiumdaQs6MZTBw2Z6",
      "include_colab_link": true
    },
    "kernelspec": {
      "name": "python3",
      "display_name": "Python 3"
    },
    "language_info": {
      "name": "python"
    }
  },
  "cells": [
    {
      "cell_type": "markdown",
      "metadata": {
        "id": "view-in-github",
        "colab_type": "text"
      },
      "source": [
        "<a href=\"https://colab.research.google.com/github/derrodo61/notebooks/blob/main/GraphRAG.ipynb\" target=\"_parent\"><img src=\"https://colab.research.google.com/assets/colab-badge.svg\" alt=\"Open In Colab\"/></a>"
      ]
    },
    {
      "cell_type": "markdown",
      "source": [
        "# GraphRAG"
      ],
      "metadata": {
        "id": "mbVyM2OsjekS"
      }
    },
    {
      "cell_type": "markdown",
      "source": [
        "## Sources"
      ],
      "metadata": {
        "id": "7Ip0d4bwkK12"
      }
    },
    {
      "cell_type": "markdown",
      "source": [
        "The GraphRAG Manifesto: Adding Knowledge to GenAI\n",
        "- https://neo4j.com/blog/graphrag-manifesto/"
      ],
      "metadata": {
        "id": "QHcNhQZuj5x5"
      }
    }
  ]
}