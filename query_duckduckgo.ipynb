{
  "nbformat": 4,
  "nbformat_minor": 0,
  "metadata": {
    "colab": {
      "provenance": [],
      "authorship_tag": "ABX9TyMQxP1SwlucIGnT8vm4uidE",
      "include_colab_link": true
    },
    "kernelspec": {
      "name": "python3",
      "display_name": "Python 3"
    },
    "language_info": {
      "name": "python"
    }
  },
  "cells": [
    {
      "cell_type": "markdown",
      "metadata": {
        "id": "view-in-github",
        "colab_type": "text"
      },
      "source": [
        "<a href=\"https://colab.research.google.com/github/derrodo61/notebooks/blob/PDLFC/query_duckduckgo.ipynb\" target=\"_parent\"><img src=\"https://colab.research.google.com/assets/colab-badge.svg\" alt=\"Open In Colab\"/></a>"
      ]
    },
    {
      "cell_type": "markdown",
      "source": [
        "# Query duckduckgo via python\n",
        "\n",
        "Documentation: https://pypi.org/project/duckduckgo-search/\n",
        "\n",
        "Install the package:"
      ],
      "metadata": {
        "id": "wHtq1SVyAP2t"
      }
    },
    {
      "cell_type": "code",
      "source": [
        "!pip install install --upgrade duckduckgo-search"
      ],
      "metadata": {
        "id": "V_oRA9_t7YSL",
        "outputId": "90fd3367-c0f2-4f2b-bbba-92db01fda1da",
        "colab": {
          "base_uri": "https://localhost:8080/"
        }
      },
      "execution_count": 1,
      "outputs": [
        {
          "output_type": "stream",
          "name": "stdout",
          "text": [
            "Collecting install\n",
            "  Downloading install-1.3.5-py3-none-any.whl (3.2 kB)\n",
            "Collecting duckduckgo-search\n",
            "  Downloading duckduckgo_search-6.1.9-py3-none-any.whl (26 kB)\n",
            "Requirement already satisfied: click>=8.1.7 in /usr/local/lib/python3.10/dist-packages (from duckduckgo-search) (8.1.7)\n",
            "Collecting pyreqwest-impersonate>=0.4.9 (from duckduckgo-search)\n",
            "  Downloading pyreqwest_impersonate-0.4.9-cp310-cp310-manylinux_2_17_x86_64.manylinux2014_x86_64.whl (2.7 MB)\n",
            "\u001b[2K     \u001b[90m━━━━━━━━━━━━━━━━━━━━━━━━━━━━━━━━━━━━━━━━\u001b[0m \u001b[32m2.7/2.7 MB\u001b[0m \u001b[31m12.0 MB/s\u001b[0m eta \u001b[36m0:00:00\u001b[0m\n",
            "\u001b[?25hInstalling collected packages: pyreqwest-impersonate, install, duckduckgo-search\n",
            "Successfully installed duckduckgo-search-6.1.9 install-1.3.5 pyreqwest-impersonate-0.4.9\n"
          ]
        }
      ]
    },
    {
      "cell_type": "markdown",
      "source": [
        "Basic imports"
      ],
      "metadata": {
        "id": "_uGe0AR9AjZf"
      }
    },
    {
      "cell_type": "code",
      "source": [
        "from duckduckgo_search import DDGS\n",
        "import json"
      ],
      "metadata": {
        "id": "CzXPvTrB7Oc6"
      },
      "execution_count": 2,
      "outputs": []
    },
    {
      "cell_type": "markdown",
      "source": [
        "## Text search"
      ],
      "metadata": {
        "id": "8pujM-8kAFaw"
      }
    },
    {
      "cell_type": "code",
      "source": [
        "results = DDGS().text(\"python programming\", max_results=5)\n",
        "\n",
        "json_string = json.dumps(results, indent=4)\n",
        "print(\"Results:\")\n",
        "print(json_string)"
      ],
      "metadata": {
        "id": "8zaPX8EZ9UkS",
        "outputId": "03c8af86-bc2a-4cd5-8a44-3f6bfb911d6f",
        "colab": {
          "base_uri": "https://localhost:8080/"
        }
      },
      "execution_count": 3,
      "outputs": [
        {
          "output_type": "stream",
          "name": "stdout",
          "text": [
            "Results:\n",
            "[\n",
            "    {\n",
            "        \"title\": \"Welcome to Python.org\",\n",
            "        \"href\": \"https://www.python.org/\",\n",
            "        \"body\": \"Python is a versatile and powerful language that lets you work quickly and integrate systems more effectively. Learn how to get started, download the latest version, access documentation, find jobs, and join the Python community.\"\n",
            "    },\n",
            "    {\n",
            "        \"title\": \"Learn Python Programming\",\n",
            "        \"href\": \"https://www.programiz.com/python-programming\",\n",
            "        \"body\": \"Python is one of the top programming languages in the world, widely used in fields such as AI, machine learning, data science, and web development. The simple and English-like syntax of Python makes it a go-to language for beginners who want to get into coding quickly. Because Python is used in multiple fields, there is a high demand for Python ...\"\n",
            "    },\n",
            "    {\n",
            "        \"title\": \"Python For Beginners | Python.org\",\n",
            "        \"href\": \"https://www.python.org/about/gettingstarted/\",\n",
            "        \"body\": \"Learn how to get started with Python, a popular and easy-to-use programming language. Find out how to install, edit, and use Python, and explore its libraries, documentation, and community resources.\"\n",
            "    },\n",
            "    {\n",
            "        \"title\": \"Python Tutorial - W3Schools\",\n",
            "        \"href\": \"https://www.w3schools.com/python/\",\n",
            "        \"body\": \"W3Schools offers a comprehensive and interactive Python tutorial, covering the basics, web applications, file handling, database handling, exercises, quizzes, and more. You can also download Python, get certified, and track your progress with My Learning.\"\n",
            "    },\n",
            "    {\n",
            "        \"title\": \"Python Tutorial | Learn Python Programming - GeeksforGeeks\",\n",
            "        \"href\": \"https://www.geeksforgeeks.org/python-programming-language-tutorial/\",\n",
            "        \"body\": \"A comprehensive guide to learn Python programming from basics to advanced topics, with examples and exercises. Covering syntax, data types, operators, loops, functions, OOPs, exceptions, packages, collections, databases, and more.\"\n",
            "    }\n",
            "]\n"
          ]
        }
      ]
    },
    {
      "cell_type": "markdown",
      "source": [
        "## Image search"
      ],
      "metadata": {
        "id": "8IQRNYmQCXku"
      }
    },
    {
      "cell_type": "markdown",
      "source": [
        "    DuckDuckGo images search. Query params: https://duckduckgo.com/params.\n",
        "    \n",
        "    Args:\n",
        "        keywords: keywords for query.\n",
        "        region: wt-wt, us-en, uk-en, ru-ru, etc. Defaults to \"wt-wt\".\n",
        "        safesearch: on, moderate, off. Defaults to \"moderate\".\n",
        "        timelimit: Day, Week, Month, Year. Defaults to None.\n",
        "        size: Small, Medium, Large, Wallpaper. Defaults to None.\n",
        "        color: color, Monochrome, Red, Orange, Yellow, Green, Blue,\n",
        "            Purple, Pink, Brown, Black, Gray, Teal, White. Defaults to None.\n",
        "        type_image: photo, clipart, gif, transparent, line.\n",
        "            Defaults to None.\n",
        "        layout: Square, Tall, Wide. Defaults to None.\n",
        "        license_image: any (All Creative Commons), Public (PublicDomain),\n",
        "            Share (Free to Share and Use), ShareCommercially (Free to Share and Use Commercially),\n",
        "            Modify (Free to Modify, Share, and Use), ModifyCommercially (Free to Modify, Share, and\n",
        "            Use Commercially). Defaults to None.\n",
        "        max_results: max number of results. If None, returns results only from the first response. Defaults to None.\n",
        "    \n",
        "    Returns:\n",
        "        List of dictionaries with images search results.\n",
        "  \n"
      ],
      "metadata": {
        "id": "Nf6QsZuhCbcq"
      }
    },
    {
      "cell_type": "code",
      "source": [
        "results = DDGS().images(\n",
        "    keywords=\"New York\",\n",
        "    region=\"wt-wt\",\n",
        "    safesearch=\"off\",\n",
        "    size=None,\n",
        "    color=None,\n",
        "    type_image=\"photo\",\n",
        "    layout=None,\n",
        "    license_image=None,\n",
        "    max_results=3,\n",
        ")\n",
        "\n",
        "\n",
        "results_formatted = json.dumps(results, indent=4)\n",
        "print(results_formatted)"
      ],
      "metadata": {
        "id": "W8dkDqh0-3RY",
        "colab": {
          "base_uri": "https://localhost:8080/"
        },
        "outputId": "77b9918a-0ae7-4542-bdce-6c98419029cb"
      },
      "execution_count": 4,
      "outputs": [
        {
          "output_type": "stream",
          "name": "stdout",
          "text": [
            "[\n",
            "    {\n",
            "        \"title\": \"File:Bright-New-York-City.jpg - Wikimedia Commons\",\n",
            "        \"image\": \"https://upload.wikimedia.org/wikipedia/commons/1/11/Bright-New-York-City.jpg\",\n",
            "        \"thumbnail\": \"https://tse3.mm.bing.net/th?id=OIP.S_Z-2T3ewkNMpF75lQhFCQHaE_&pid=Api\",\n",
            "        \"url\": \"https://commons.wikimedia.org/wiki/File:Bright-New-York-City.jpg\",\n",
            "        \"height\": 2711,\n",
            "        \"width\": 4020,\n",
            "        \"source\": \"Bing\"\n",
            "    },\n",
            "    {\n",
            "        \"title\": \"File:Manhattan Municipal Building, New York City.jpg - Wikimedia Commons\",\n",
            "        \"image\": \"http://upload.wikimedia.org/wikipedia/commons/0/07/Manhattan_Municipal_Building,_New_York_City.jpg\",\n",
            "        \"thumbnail\": \"https://tse4.mm.bing.net/th?id=OIP.CbwxqEY03_M91ppIRLXuNgHaI0&pid=Api\",\n",
            "        \"url\": \"http://commons.wikimedia.org/wiki/File:Manhattan_Municipal_Building,_New_York_City.jpg\",\n",
            "        \"height\": 4604,\n",
            "        \"width\": 3868,\n",
            "        \"source\": \"Bing\"\n",
            "    },\n",
            "    {\n",
            "        \"title\": \"Las 10 Mejores Fotos de Nueva York (y consejos para hacerlas ...\",\n",
            "        \"image\": \"https://i2.wp.com/www.proyectoviajero.com/wp-content/uploads/2018/06/brooklyn_bridge_new_york.jpg?resize=2048,1365&ssl=1\",\n",
            "        \"thumbnail\": \"https://tse4.mm.bing.net/th?id=OIP.K1IikGxq8V1dYu1rm_EeVAHaE7&pid=Api\",\n",
            "        \"url\": \"https://proyectoviajero.com/10-mejores-fotos-nueva-york/\",\n",
            "        \"height\": 1365,\n",
            "        \"width\": 2048,\n",
            "        \"source\": \"Bing\"\n",
            "    }\n",
            "]\n"
          ]
        }
      ]
    },
    {
      "cell_type": "code",
      "source": [
        "from IPython.display import Image, display\n",
        "for idx, img in enumerate(results):\n",
        "    thumb=results[idx][\"thumbnail\"]\n",
        "    print(f\"{idx+1}. {thumb}\")\n",
        "    display(Image(url=thumb, width=200))"
      ],
      "metadata": {
        "colab": {
          "base_uri": "https://localhost:8080/",
          "height": 588
        },
        "id": "3YaPLlxhOj97",
        "outputId": "fca0b36e-8c91-4897-8e02-c9322a911044"
      },
      "execution_count": 5,
      "outputs": [
        {
          "output_type": "stream",
          "name": "stdout",
          "text": [
            "1. https://tse3.mm.bing.net/th?id=OIP.S_Z-2T3ewkNMpF75lQhFCQHaE_&pid=Api\n"
          ]
        },
        {
          "output_type": "display_data",
          "data": {
            "text/html": [
              "<img src=\"https://tse3.mm.bing.net/th?id=OIP.S_Z-2T3ewkNMpF75lQhFCQHaE_&pid=Api\" width=\"200\"/>"
            ],
            "text/plain": [
              "<IPython.core.display.Image object>"
            ]
          },
          "metadata": {}
        },
        {
          "output_type": "stream",
          "name": "stdout",
          "text": [
            "2. https://tse4.mm.bing.net/th?id=OIP.CbwxqEY03_M91ppIRLXuNgHaI0&pid=Api\n"
          ]
        },
        {
          "output_type": "display_data",
          "data": {
            "text/html": [
              "<img src=\"https://tse4.mm.bing.net/th?id=OIP.CbwxqEY03_M91ppIRLXuNgHaI0&pid=Api\" width=\"200\"/>"
            ],
            "text/plain": [
              "<IPython.core.display.Image object>"
            ]
          },
          "metadata": {}
        },
        {
          "output_type": "stream",
          "name": "stdout",
          "text": [
            "3. https://tse4.mm.bing.net/th?id=OIP.K1IikGxq8V1dYu1rm_EeVAHaE7&pid=Api\n"
          ]
        },
        {
          "output_type": "display_data",
          "data": {
            "text/html": [
              "<img src=\"https://tse4.mm.bing.net/th?id=OIP.K1IikGxq8V1dYu1rm_EeVAHaE7&pid=Api\" width=\"200\"/>"
            ],
            "text/plain": [
              "<IPython.core.display.Image object>"
            ]
          },
          "metadata": {}
        }
      ]
    }
  ]
}