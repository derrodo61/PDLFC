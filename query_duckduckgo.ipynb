{
  "nbformat": 4,
  "nbformat_minor": 0,
  "metadata": {
    "colab": {
      "provenance": [],
      "authorship_tag": "ABX9TyMdX271Xs7QMyJsdq2hu+NT",
      "include_colab_link": true
    },
    "kernelspec": {
      "name": "python3",
      "display_name": "Python 3"
    },
    "language_info": {
      "name": "python"
    }
  },
  "cells": [
    {
      "cell_type": "markdown",
      "metadata": {
        "id": "view-in-github",
        "colab_type": "text"
      },
      "source": [
        "<a href=\"https://colab.research.google.com/github/derrodo61/notebooks/blob/PDLFC/query_duckduckgo.ipynb\" target=\"_parent\"><img src=\"https://colab.research.google.com/assets/colab-badge.svg\" alt=\"Open In Colab\"/></a>"
      ]
    },
    {
      "cell_type": "markdown",
      "source": [
        "# Query duckduckgo via python\n",
        "\n",
        "Documentation: https://pypi.org/project/duckduckgo-search/\n",
        "\n",
        "**Install the required packages:**"
      ],
      "metadata": {
        "id": "wHtq1SVyAP2t"
      }
    },
    {
      "cell_type": "code",
      "source": [
        "!pip install -U duckduckgo-search\n",
        "!pip install -U fastdownload"
      ],
      "metadata": {
        "id": "V_oRA9_t7YSL",
        "colab": {
          "base_uri": "https://localhost:8080/"
        },
        "outputId": "11e06890-520f-4773-8d23-845d4dbd82b6"
      },
      "execution_count": 18,
      "outputs": [
        {
          "output_type": "stream",
          "name": "stdout",
          "text": [
            "Requirement already satisfied: duckduckgo-search in /usr/local/lib/python3.10/dist-packages (6.1.9)\n",
            "Requirement already satisfied: click>=8.1.7 in /usr/local/lib/python3.10/dist-packages (from duckduckgo-search) (8.1.7)\n",
            "Requirement already satisfied: pyreqwest-impersonate>=0.4.9 in /usr/local/lib/python3.10/dist-packages (from duckduckgo-search) (0.4.9)\n",
            "Requirement already satisfied: fastdownload in /usr/local/lib/python3.10/dist-packages (0.0.7)\n",
            "Requirement already satisfied: fastprogress in /usr/local/lib/python3.10/dist-packages (from fastdownload) (1.0.3)\n",
            "Requirement already satisfied: fastcore>=1.3.26 in /usr/local/lib/python3.10/dist-packages (from fastdownload) (1.5.48)\n",
            "Requirement already satisfied: packaging in /usr/local/lib/python3.10/dist-packages (from fastcore>=1.3.26->fastdownload) (24.1)\n"
          ]
        }
      ]
    },
    {
      "cell_type": "markdown",
      "source": [
        "**Basic imports:**"
      ],
      "metadata": {
        "id": "_uGe0AR9AjZf"
      }
    },
    {
      "cell_type": "code",
      "source": [
        "from duckduckgo_search import DDGS\n",
        "import json"
      ],
      "metadata": {
        "id": "CzXPvTrB7Oc6"
      },
      "execution_count": 10,
      "outputs": []
    },
    {
      "cell_type": "markdown",
      "source": [
        "## Text search"
      ],
      "metadata": {
        "id": "8pujM-8kAFaw"
      }
    },
    {
      "cell_type": "code",
      "source": [
        "results = DDGS().text(\"python programming\", max_results=5)\n",
        "\n",
        "json_string = json.dumps(results, indent=4)\n",
        "print(\"Results:\")\n",
        "print(json_string)"
      ],
      "metadata": {
        "id": "8zaPX8EZ9UkS",
        "colab": {
          "base_uri": "https://localhost:8080/"
        },
        "outputId": "2444fe65-4003-4d23-a64f-980a11c5da3e"
      },
      "execution_count": 11,
      "outputs": [
        {
          "output_type": "stream",
          "name": "stdout",
          "text": [
            "Results:\n",
            "[\n",
            "    {\n",
            "        \"title\": \"Welcome to Python.org\",\n",
            "        \"href\": \"https://www.python.org/\",\n",
            "        \"body\": \"Python is a versatile and powerful language that lets you work quickly and integrate systems more effectively. Learn how to get started, download the latest version, access documentation, find jobs, and join the Python community.\"\n",
            "    },\n",
            "    {\n",
            "        \"title\": \"Python For Beginners | Python.org\",\n",
            "        \"href\": \"https://www.python.org/about/gettingstarted/\",\n",
            "        \"body\": \"Learn how to get started with Python, a popular and easy-to-use programming language. Find out how to install, edit, and use Python, and explore its libraries, documentation, and community resources.\"\n",
            "    },\n",
            "    {\n",
            "        \"title\": \"Learn Python Programming\",\n",
            "        \"href\": \"https://www.programiz.com/python-programming\",\n",
            "        \"body\": \"Python is one of the top programming languages in the world, widely used in fields such as AI, machine learning, data science, and web development. The simple and English-like syntax of Python makes it a go-to language for beginners who want to get into coding quickly. Because Python is used in multiple fields, there is a high demand for Python ...\"\n",
            "    },\n",
            "    {\n",
            "        \"title\": \"Python Tutorial - W3Schools\",\n",
            "        \"href\": \"https://www.w3schools.com/python/\",\n",
            "        \"body\": \"W3Schools offers a comprehensive and interactive Python tutorial, covering the basics, web applications, file handling, database handling, exercises, quizzes, and more. You can also download Python, get certified, and track your progress with My Learning.\"\n",
            "    },\n",
            "    {\n",
            "        \"title\": \"Python (programming language) - Wikipedia\",\n",
            "        \"href\": \"https://en.wikipedia.org/wiki/Python_(programming_language)\",\n",
            "        \"body\": \"Python is a high-level, general-purpose programming language.Its design philosophy emphasizes code readability with the use of significant indentation.. Python is dynamically typed and garbage-collected.It supports multiple programming paradigms, including structured (particularly procedural), object-oriented and functional programming.It is often described as a \\\"batteries included\\\" language ...\"\n",
            "    }\n",
            "]\n"
          ]
        }
      ]
    },
    {
      "cell_type": "markdown",
      "source": [
        "## Image search"
      ],
      "metadata": {
        "id": "8IQRNYmQCXku"
      }
    },
    {
      "cell_type": "markdown",
      "source": [
        "    DuckDuckGo images search. Query params: https://duckduckgo.com/params.\n",
        "    \n",
        "    Args:\n",
        "        keywords: keywords for query.\n",
        "        region: wt-wt, us-en, uk-en, ru-ru, etc. Defaults to \"wt-wt\".\n",
        "        safesearch: on, moderate, off. Defaults to \"moderate\".\n",
        "        timelimit: Day, Week, Month, Year. Defaults to None.\n",
        "        size: Small, Medium, Large, Wallpaper. Defaults to None.\n",
        "        color: color, Monochrome, Red, Orange, Yellow, Green, Blue,\n",
        "            Purple, Pink, Brown, Black, Gray, Teal, White. Defaults to None.\n",
        "        type_image: photo, clipart, gif, transparent, line.\n",
        "            Defaults to None.\n",
        "        layout: Square, Tall, Wide. Defaults to None.\n",
        "        license_image: any (All Creative Commons), Public (PublicDomain),\n",
        "            Share (Free to Share and Use), ShareCommercially (Free to Share and Use Commercially),\n",
        "            Modify (Free to Modify, Share, and Use), ModifyCommercially (Free to Modify, Share, and\n",
        "            Use Commercially). Defaults to None.\n",
        "        max_results: max number of results. If None, returns results only from the first response. Defaults to None.\n",
        "    \n",
        "    Returns:\n",
        "        List of dictionaries with images search results.\n",
        "  \n"
      ],
      "metadata": {
        "id": "Nf6QsZuhCbcq"
      }
    },
    {
      "cell_type": "markdown",
      "source": [
        "**Search for photos of New York, restrict search results to 3 photos:**"
      ],
      "metadata": {
        "id": "15QJe990qisp"
      }
    },
    {
      "cell_type": "code",
      "source": [
        "results = DDGS().images(\n",
        "    keywords=\"New York\",\n",
        "    region=\"wt-wt\",\n",
        "    safesearch=\"off\",\n",
        "    size=None,\n",
        "    color=None,\n",
        "    type_image=\"photo\",\n",
        "    layout=None,\n",
        "    license_image=None,\n",
        "    max_results=3,\n",
        ")\n",
        "\n",
        "\n",
        "results_formatted = json.dumps(results, indent=4)\n",
        "print(results_formatted)"
      ],
      "metadata": {
        "id": "W8dkDqh0-3RY",
        "colab": {
          "base_uri": "https://localhost:8080/"
        },
        "outputId": "0da3b1bb-92f8-4442-ed9c-366e1cdda2c2"
      },
      "execution_count": 12,
      "outputs": [
        {
          "output_type": "stream",
          "name": "stdout",
          "text": [
            "[\n",
            "    {\n",
            "        \"title\": \"File:Bright-New-York-City.jpg - Wikimedia Commons\",\n",
            "        \"image\": \"https://upload.wikimedia.org/wikipedia/commons/1/11/Bright-New-York-City.jpg\",\n",
            "        \"thumbnail\": \"https://tse3.mm.bing.net/th?id=OIP.S_Z-2T3ewkNMpF75lQhFCQHaE_&pid=Api\",\n",
            "        \"url\": \"https://commons.wikimedia.org/wiki/File:Bright-New-York-City.jpg\",\n",
            "        \"height\": 2711,\n",
            "        \"width\": 4020,\n",
            "        \"source\": \"Bing\"\n",
            "    },\n",
            "    {\n",
            "        \"title\": \"File:Empire State Building New York City Flickr Tjeerd.jpg - Wikimedia ...\",\n",
            "        \"image\": \"http://upload.wikimedia.org/wikipedia/commons/f/fe/Empire_State_Building_New_York_City_Flickr_Tjeerd.jpg\",\n",
            "        \"thumbnail\": \"https://tse3.mm.bing.net/th?id=OIP.kYQph7r1DMipE5NWJWa33wHaJ4&pid=Api\",\n",
            "        \"url\": \"http://commons.wikimedia.org/wiki/File:Empire_State_Building_New_York_City_Flickr_Tjeerd.jpg\",\n",
            "        \"height\": 1600,\n",
            "        \"width\": 1200,\n",
            "        \"source\": \"Bing\"\n",
            "    },\n",
            "    {\n",
            "        \"title\": \"File:New York City skyline with Empire State Building 1.jpg - Wikimedia ...\",\n",
            "        \"image\": \"https://upload.wikimedia.org/wikipedia/commons/0/00/New_York_City_skyline_with_Empire_State_Building_1.jpg\",\n",
            "        \"thumbnail\": \"https://tse1.mm.bing.net/th?id=OIP.XxTeT3MNj2WgmKQs_jzI8wHaE8&pid=Api\",\n",
            "        \"url\": \"http://commons.wikimedia.org/wiki/file:new_york_city_skyline_with_empire_state_building_1.jpg\",\n",
            "        \"height\": 1800,\n",
            "        \"width\": 2700,\n",
            "        \"source\": \"Bing\"\n",
            "    }\n",
            "]\n"
          ]
        }
      ]
    },
    {
      "cell_type": "markdown",
      "source": [
        "**Download 1 image:**"
      ],
      "metadata": {
        "id": "5B8Ay74tq4-r"
      }
    },
    {
      "cell_type": "code",
      "source": [
        "from fastdownload import download_url\n",
        "\n",
        "dest = 'berlin.jpg'\n",
        "url = results[0]['image']\n",
        "download_url(url, dest, show_progress=True)"
      ],
      "metadata": {
        "colab": {
          "base_uri": "https://localhost:8080/",
          "height": 55
        },
        "id": "emgOIe6pnoSS",
        "outputId": "1851c206-149b-48e9-d566-55d6af45ce41"
      },
      "execution_count": 13,
      "outputs": [
        {
          "output_type": "display_data",
          "data": {
            "text/plain": [
              "<IPython.core.display.HTML object>"
            ],
            "text/html": [
              "\n",
              "<style>\n",
              "    /* Turns off some styling */\n",
              "    progress {\n",
              "        /* gets rid of default border in Firefox and Opera. */\n",
              "        border: none;\n",
              "        /* Needs to be in here for Safari polyfill so background images work as expected. */\n",
              "        background-size: auto;\n",
              "    }\n",
              "    progress:not([value]), progress:not([value])::-webkit-progress-bar {\n",
              "        background: repeating-linear-gradient(45deg, #7e7e7e, #7e7e7e 10px, #5c5c5c 10px, #5c5c5c 20px);\n",
              "    }\n",
              "    .progress-bar-interrupted, .progress-bar-interrupted::-webkit-progress-bar {\n",
              "        background: #F44336;\n",
              "    }\n",
              "</style>\n"
            ]
          },
          "metadata": {}
        },
        {
          "output_type": "display_data",
          "data": {
            "text/plain": [
              "<IPython.core.display.HTML object>"
            ],
            "text/html": [
              "\n",
              "    <div>\n",
              "      <progress value='7888896' class='' max='7887273' style='width:300px; height:20px; vertical-align: middle;'></progress>\n",
              "      100.02% [7888896/7887273 00:00&lt;00:00]\n",
              "    </div>\n",
              "    "
            ]
          },
          "metadata": {}
        },
        {
          "output_type": "execute_result",
          "data": {
            "text/plain": [
              "Path('berlin.jpg')"
            ]
          },
          "metadata": {},
          "execution_count": 13
        }
      ]
    },
    {
      "cell_type": "markdown",
      "source": [
        "**Show the image:**"
      ],
      "metadata": {
        "id": "IRIwImaTq-P8"
      }
    },
    {
      "cell_type": "code",
      "source": [
        "from IPython.display import Image, display\n",
        "\n",
        "display(Image(url=url, width=200))"
      ],
      "metadata": {
        "colab": {
          "base_uri": "https://localhost:8080/",
          "height": 156
        },
        "id": "kZrJXk6Dp_ol",
        "outputId": "59765984-99c4-41dc-bb1c-4435a36ad84e"
      },
      "execution_count": 17,
      "outputs": [
        {
          "output_type": "display_data",
          "data": {
            "text/html": [
              "<img src=\"https://upload.wikimedia.org/wikipedia/commons/1/11/Bright-New-York-City.jpg\" width=\"200\"/>"
            ],
            "text/plain": [
              "<IPython.core.display.Image object>"
            ]
          },
          "metadata": {}
        }
      ]
    }
  ]
}