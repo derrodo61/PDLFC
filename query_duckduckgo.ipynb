{
  "nbformat": 4,
  "nbformat_minor": 0,
  "metadata": {
    "colab": {
      "provenance": [],
      "authorship_tag": "ABX9TyPRtsrq6JEkXgOr2YOFvKnl",
      "include_colab_link": true
    },
    "kernelspec": {
      "name": "python3",
      "display_name": "Python 3"
    },
    "language_info": {
      "name": "python"
    }
  },
  "cells": [
    {
      "cell_type": "markdown",
      "metadata": {
        "id": "view-in-github",
        "colab_type": "text"
      },
      "source": [
        "<a href=\"https://colab.research.google.com/github/derrodo61/notebooks/blob/PDLFC/query_duckduckgo.ipynb\" target=\"_parent\"><img src=\"https://colab.research.google.com/assets/colab-badge.svg\" alt=\"Open In Colab\"/></a>"
      ]
    },
    {
      "cell_type": "markdown",
      "source": [
        "# Query duckduckgo via python\n",
        "\n",
        "Documentation: https://pypi.org/project/duckduckgo-search/\n",
        "\n",
        "Install the package:"
      ],
      "metadata": {
        "id": "wHtq1SVyAP2t"
      }
    },
    {
      "cell_type": "code",
      "source": [
        "!pip install install --upgrade duckduckgo-search"
      ],
      "metadata": {
        "id": "V_oRA9_t7YSL"
      },
      "execution_count": null,
      "outputs": []
    },
    {
      "cell_type": "markdown",
      "source": [
        "Basic imports"
      ],
      "metadata": {
        "id": "_uGe0AR9AjZf"
      }
    },
    {
      "cell_type": "code",
      "source": [
        "from duckduckgo_search import DDGS\n",
        "import json"
      ],
      "metadata": {
        "id": "CzXPvTrB7Oc6"
      },
      "execution_count": null,
      "outputs": []
    },
    {
      "cell_type": "markdown",
      "source": [
        "## Text search"
      ],
      "metadata": {
        "id": "8pujM-8kAFaw"
      }
    },
    {
      "cell_type": "code",
      "source": [
        "results = DDGS().text(\"python programming\", max_results=5)\n",
        "\n",
        "json_string = json.dumps(results, indent=4)\n",
        "print(\"Results:\")\n",
        "print(json_string)"
      ],
      "metadata": {
        "id": "8zaPX8EZ9UkS"
      },
      "execution_count": null,
      "outputs": []
    },
    {
      "cell_type": "markdown",
      "source": [
        "## Image search"
      ],
      "metadata": {
        "id": "8IQRNYmQCXku"
      }
    },
    {
      "cell_type": "markdown",
      "source": [
        "    DuckDuckGo images search. Query params: https://duckduckgo.com/params.\n",
        "    \n",
        "    Args:\n",
        "        keywords: keywords for query.\n",
        "        region: wt-wt, us-en, uk-en, ru-ru, etc. Defaults to \"wt-wt\".\n",
        "        safesearch: on, moderate, off. Defaults to \"moderate\".\n",
        "        timelimit: Day, Week, Month, Year. Defaults to None.\n",
        "        size: Small, Medium, Large, Wallpaper. Defaults to None.\n",
        "        color: color, Monochrome, Red, Orange, Yellow, Green, Blue,\n",
        "            Purple, Pink, Brown, Black, Gray, Teal, White. Defaults to None.\n",
        "        type_image: photo, clipart, gif, transparent, line.\n",
        "            Defaults to None.\n",
        "        layout: Square, Tall, Wide. Defaults to None.\n",
        "        license_image: any (All Creative Commons), Public (PublicDomain),\n",
        "            Share (Free to Share and Use), ShareCommercially (Free to Share and Use Commercially),\n",
        "            Modify (Free to Modify, Share, and Use), ModifyCommercially (Free to Modify, Share, and\n",
        "            Use Commercially). Defaults to None.\n",
        "        max_results: max number of results. If None, returns results only from the first response. Defaults to None.\n",
        "    \n",
        "    Returns:\n",
        "        List of dictionaries with images search results.\n",
        "  \n"
      ],
      "metadata": {
        "id": "Nf6QsZuhCbcq"
      }
    },
    {
      "cell_type": "code",
      "source": [
        "results = DDGS().images(\n",
        "    keywords=\"Angelina Jolie\",\n",
        "    region=\"wt-wt\",\n",
        "    safesearch=\"off\",\n",
        "    size=None,\n",
        "    color=None,\n",
        "    type_image=\"photo\",\n",
        "    layout=None,\n",
        "    license_image=None,\n",
        "    max_results=1,\n",
        ")\n",
        "\n",
        "\n",
        "results_formatted = json.dumps(results, indent=4)\n",
        "print(results_formatted)"
      ],
      "metadata": {
        "id": "W8dkDqh0-3RY",
        "colab": {
          "base_uri": "https://localhost:8080/"
        },
        "outputId": "03996772-b3ad-4544-c0e9-bacbb7e6b4ec"
      },
      "execution_count": null,
      "outputs": [
        {
          "output_type": "stream",
          "name": "stdout",
          "text": [
            "[\n",
            "    {\n",
            "        \"title\": \"Angelina Jolie | Biography, Movies, Children, & Facts | Britannica\",\n",
            "        \"image\": \"https://cdn.britannica.com/61/103761-050-0174C1D5/Angelina-Jolie-Hollywood.jpg\",\n",
            "        \"thumbnail\": \"https://tse1.mm.bing.net/th?id=OIP.qW4WUFDKjWHPFURFBgOnlwHaLG&pid=Api\",\n",
            "        \"url\": \"https://www.britannica.com/biography/Angelina-Jolie\",\n",
            "        \"height\": 1600,\n",
            "        \"width\": 1067,\n",
            "        \"source\": \"Bing\"\n",
            "    }\n",
            "]\n"
          ]
        }
      ]
    },
    {
      "cell_type": "code",
      "source": [
        "from IPython.display import Image, display\n",
        "for idx, img in enumerate(results):\n",
        "    thumb=results[idx][\"thumbnail\"]\n",
        "    print(f\"{idx+1}. {thumb}\")\n",
        "    display(Image(url=thumb, width=200))"
      ],
      "metadata": {
        "colab": {
          "base_uri": "https://localhost:8080/",
          "height": 338
        },
        "id": "3YaPLlxhOj97",
        "outputId": "65528abc-358e-4282-b4e4-053e9fc1d385"
      },
      "execution_count": null,
      "outputs": [
        {
          "output_type": "stream",
          "name": "stdout",
          "text": [
            "1. https://tse1.mm.bing.net/th?id=OIP.qW4WUFDKjWHPFURFBgOnlwHaLG&pid=Api\n"
          ]
        },
        {
          "output_type": "display_data",
          "data": {
            "text/html": [
              "<img src=\"https://tse1.mm.bing.net/th?id=OIP.qW4WUFDKjWHPFURFBgOnlwHaLG&pid=Api\" width=\"200\"/>"
            ],
            "text/plain": [
              "<IPython.core.display.Image object>"
            ]
          },
          "metadata": {}
        }
      ]
    }
  ]
}