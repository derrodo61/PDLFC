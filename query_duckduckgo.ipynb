{
  "nbformat": 4,
  "nbformat_minor": 0,
  "metadata": {
    "colab": {
      "provenance": [],
      "authorship_tag": "ABX9TyMFeNR80K5sdOrAr6tS1b+K",
      "include_colab_link": true
    },
    "kernelspec": {
      "name": "python3",
      "display_name": "Python 3"
    },
    "language_info": {
      "name": "python"
    }
  },
  "cells": [
    {
      "cell_type": "markdown",
      "metadata": {
        "id": "view-in-github",
        "colab_type": "text"
      },
      "source": [
        "<a href=\"https://colab.research.google.com/github/derrodo61/notebooks/blob/PDLFC/query_duckduckgo.ipynb\" target=\"_parent\"><img src=\"https://colab.research.google.com/assets/colab-badge.svg\" alt=\"Open In Colab\"/></a>"
      ]
    },
    {
      "cell_type": "markdown",
      "source": [
        "# Query duckduckgo via python\n",
        "\n",
        "Documentation: (https://pypi.org/project/duckduckgo-search/)\n",
        "\n",
        "Install the package:"
      ],
      "metadata": {
        "id": "wHtq1SVyAP2t"
      }
    },
    {
      "cell_type": "code",
      "source": [
        "!pip install install --upgrade duckduckgo-search"
      ],
      "metadata": {
        "colab": {
          "base_uri": "https://localhost:8080/"
        },
        "id": "V_oRA9_t7YSL",
        "outputId": "c4ce819e-be42-41ae-fc66-ca1bf3af1cfa"
      },
      "execution_count": 1,
      "outputs": [
        {
          "output_type": "stream",
          "name": "stdout",
          "text": [
            "Collecting install\n",
            "  Downloading install-1.3.5-py3-none-any.whl (3.2 kB)\n",
            "Collecting duckduckgo-search\n",
            "  Downloading duckduckgo_search-6.1.9-py3-none-any.whl (26 kB)\n",
            "Requirement already satisfied: click>=8.1.7 in /usr/local/lib/python3.10/dist-packages (from duckduckgo-search) (8.1.7)\n",
            "Collecting pyreqwest-impersonate>=0.4.9 (from duckduckgo-search)\n",
            "  Downloading pyreqwest_impersonate-0.4.9-cp310-cp310-manylinux_2_17_x86_64.manylinux2014_x86_64.whl (2.7 MB)\n",
            "\u001b[2K     \u001b[90m━━━━━━━━━━━━━━━━━━━━━━━━━━━━━━━━━━━━━━━━\u001b[0m \u001b[32m2.7/2.7 MB\u001b[0m \u001b[31m8.9 MB/s\u001b[0m eta \u001b[36m0:00:00\u001b[0m\n",
            "\u001b[?25hInstalling collected packages: pyreqwest-impersonate, install, duckduckgo-search\n",
            "Successfully installed duckduckgo-search-6.1.9 install-1.3.5 pyreqwest-impersonate-0.4.9\n"
          ]
        }
      ]
    },
    {
      "cell_type": "markdown",
      "source": [
        "Basic imports"
      ],
      "metadata": {
        "id": "_uGe0AR9AjZf"
      }
    },
    {
      "cell_type": "code",
      "source": [
        "from duckduckgo_search import DDGS\n",
        "import json"
      ],
      "metadata": {
        "id": "CzXPvTrB7Oc6"
      },
      "execution_count": 2,
      "outputs": []
    },
    {
      "cell_type": "markdown",
      "source": [
        "## Text search"
      ],
      "metadata": {
        "id": "8pujM-8kAFaw"
      }
    },
    {
      "cell_type": "code",
      "source": [
        "results = DDGS().text(\"python programming\", max_results=5)\n",
        "\n",
        "json_string = json.dumps(results, indent=4)\n",
        "print(\"Results:\")\n",
        "print(json_string)"
      ],
      "metadata": {
        "id": "8zaPX8EZ9UkS",
        "outputId": "6024b8dc-2986-49a1-dd6d-0ed3e63a0474",
        "colab": {
          "base_uri": "https://localhost:8080/"
        }
      },
      "execution_count": 3,
      "outputs": [
        {
          "output_type": "stream",
          "name": "stdout",
          "text": [
            "Results:\n",
            "[\n",
            "    {\n",
            "        \"title\": \"Welcome to Python.org\",\n",
            "        \"href\": \"https://www.python.org/\",\n",
            "        \"body\": \"Python is a versatile and powerful language that lets you work quickly and integrate systems more effectively. Learn how to get started, download the latest version, access documentation, find jobs, and join the Python community.\"\n",
            "    },\n",
            "    {\n",
            "        \"title\": \"Python For Beginners | Python.org\",\n",
            "        \"href\": \"https://www.python.org/about/gettingstarted/\",\n",
            "        \"body\": \"Learn how to get started with Python, a popular and easy-to-use programming language. Find out how to install, edit, and use Python, and explore its libraries, documentation, and community resources.\"\n",
            "    },\n",
            "    {\n",
            "        \"title\": \"Learn Python Programming\",\n",
            "        \"href\": \"https://www.programiz.com/python-programming\",\n",
            "        \"body\": \"Python is one of the top programming languages in the world, widely used in fields such as AI, machine learning, data science, and web development. The simple and English-like syntax of Python makes it a go-to language for beginners who want to get into coding quickly. Because Python is used in multiple fields, there is a high demand for Python ...\"\n",
            "    },\n",
            "    {\n",
            "        \"title\": \"Python Tutorial - W3Schools\",\n",
            "        \"href\": \"https://www.w3schools.com/python/\",\n",
            "        \"body\": \"W3Schools offers a comprehensive and interactive Python tutorial, covering the basics, web applications, file handling, database handling, exercises, quizzes, and more. You can also download Python, get certified, and track your progress with My Learning.\"\n",
            "    },\n",
            "    {\n",
            "        \"title\": \"The Python Tutorial \\u2014 Python 3.12.4 documentation\",\n",
            "        \"href\": \"https://docs.python.org/3/tutorial/index.html\",\n",
            "        \"body\": \"Python is an easy to learn, powerful programming language. It has efficient high-level data structures and a simple but effective approach to object-oriented programming. Python's elegant syntax and dynamic typing, together with its interpreted nature, make it an ideal language for scripting and rapid application development in many areas on ...\"\n",
            "    }\n",
            "]\n"
          ]
        }
      ]
    },
    {
      "cell_type": "markdown",
      "source": [
        "## Image search"
      ],
      "metadata": {
        "id": "8IQRNYmQCXku"
      }
    },
    {
      "cell_type": "markdown",
      "source": [
        "    DuckDuckGo images search. Query params: https://duckduckgo.com/params.\n",
        "    \n",
        "    Args:\n",
        "        keywords: keywords for query.\n",
        "        region: wt-wt, us-en, uk-en, ru-ru, etc. Defaults to \"wt-wt\".\n",
        "        safesearch: on, moderate, off. Defaults to \"moderate\".\n",
        "        timelimit: Day, Week, Month, Year. Defaults to None.\n",
        "        size: Small, Medium, Large, Wallpaper. Defaults to None.\n",
        "        color: color, Monochrome, Red, Orange, Yellow, Green, Blue,\n",
        "            Purple, Pink, Brown, Black, Gray, Teal, White. Defaults to None.\n",
        "        type_image: photo, clipart, gif, transparent, line.\n",
        "            Defaults to None.\n",
        "        layout: Square, Tall, Wide. Defaults to None.\n",
        "        license_image: any (All Creative Commons), Public (PublicDomain),\n",
        "            Share (Free to Share and Use), ShareCommercially (Free to Share and Use Commercially),\n",
        "            Modify (Free to Modify, Share, and Use), ModifyCommercially (Free to Modify, Share, and\n",
        "            Use Commercially). Defaults to None.\n",
        "        max_results: max number of results. If None, returns results only from the first response. Defaults to None.\n",
        "    \n",
        "    Returns:\n",
        "        List of dictionaries with images search results.\n",
        "  \n"
      ],
      "metadata": {
        "id": "Nf6QsZuhCbcq"
      }
    },
    {
      "cell_type": "code",
      "source": [
        "results = DDGS().images(\n",
        "    keywords=\"Angelina Jolie\",\n",
        "    region=\"wt-wt\",\n",
        "    safesearch=\"off\",\n",
        "    size=None,\n",
        "    color=None,\n",
        "    type_image=\"photo\",\n",
        "    layout=None,\n",
        "    license_image=None,\n",
        "    max_results=10,\n",
        ")\n",
        "\n",
        "\n",
        "results_formatted = json.dumps(results, indent=4)\n",
        "print(results_formatted)"
      ],
      "metadata": {
        "id": "W8dkDqh0-3RY",
        "outputId": "25ad46dd-7624-452c-fc37-8de84dede08b",
        "colab": {
          "base_uri": "https://localhost:8080/"
        }
      },
      "execution_count": 4,
      "outputs": [
        {
          "output_type": "stream",
          "name": "stdout",
          "text": [
            "[\n",
            "    {\n",
            "        \"title\": \"Angelina Jolie | Biography, Movies, Children, & Facts | Britannica\",\n",
            "        \"image\": \"https://cdn.britannica.com/61/103761-050-0174C1D5/Angelina-Jolie-Hollywood.jpg\",\n",
            "        \"thumbnail\": \"https://tse1.mm.bing.net/th?id=OIP.qW4WUFDKjWHPFURFBgOnlwHaLG&pid=Api\",\n",
            "        \"url\": \"https://www.britannica.com/biography/Angelina-Jolie\",\n",
            "        \"height\": 1600,\n",
            "        \"width\": 1067,\n",
            "        \"source\": \"Bing\"\n",
            "    },\n",
            "    {\n",
            "        \"title\": \"Angelina Jolie - Angelina Jolie Photo (28590815) - Fanpop\",\n",
            "        \"image\": \"http://images5.fanpop.com/image/photos/28500000/Angelina-Jolie-angelina-jolie-28590815-1789-2357.jpg\",\n",
            "        \"thumbnail\": \"https://tse2.mm.bing.net/th?id=OIP.rgsKZiK5xpVyZw4q7Yzw6gAAAA&pid=Api\",\n",
            "        \"url\": \"http://www.fanpop.com/clubs/angelina-jolie/images/28590815/title/angelina-jolie-photo\",\n",
            "        \"height\": 624,\n",
            "        \"width\": 474,\n",
            "        \"source\": \"Bing\"\n",
            "    },\n",
            "    {\n",
            "        \"title\": \"Angelina Jolie - Wikipedia\",\n",
            "        \"image\": \"https://upload.wikimedia.org/wikipedia/commons/a/ad/Angelina_Jolie_2_June_2014_(cropped).jpg\",\n",
            "        \"thumbnail\": \"https://tse2.mm.bing.net/th?id=OIP.Qad14dGjHpyusgp0YcvmoQAAAA&pid=Api\",\n",
            "        \"url\": \"https://de.wikipedia.org/wiki/Angelina_Jolie\",\n",
            "        \"height\": 663,\n",
            "        \"width\": 474,\n",
            "        \"source\": \"Bing\"\n",
            "    },\n",
            "    {\n",
            "        \"title\": \"File:Angelina Jolie by Gage Skidmore.jpg - Wikipedia\",\n",
            "        \"image\": \"http://upload.wikimedia.org/wikipedia/commons/0/0c/Angelina_Jolie_by_Gage_Skidmore.jpg\",\n",
            "        \"thumbnail\": \"https://tse4.mm.bing.net/th?id=OIP.iKrHLLvRjCkGrcGOtZz1AwHaJG&pid=Api\",\n",
            "        \"url\": \"http://en.wikipedia.org/wiki/File:Angelina_Jolie_by_Gage_Skidmore.jpg\",\n",
            "        \"height\": 3096,\n",
            "        \"width\": 2520,\n",
            "        \"source\": \"Bing\"\n",
            "    },\n",
            "    {\n",
            "        \"title\": \"File:Angelina Jolie at Davos crop.jpg\",\n",
            "        \"image\": \"http://upload.wikimedia.org/wikipedia/commons/3/34/Angelina_Jolie_at_Davos_crop.jpg\",\n",
            "        \"thumbnail\": \"https://tse1.mm.bing.net/th?id=OIP.d2GMjIj67xXdrR67dK3QNwHaIe&pid=Api\",\n",
            "        \"url\": \"http://commons.wikimedia.org/wiki/File:Angelina_Jolie_at_Davos_crop.jpg\",\n",
            "        \"height\": 1598,\n",
            "        \"width\": 1396,\n",
            "        \"source\": \"Bing\"\n",
            "    },\n",
            "    {\n",
            "        \"title\": \"Angelina Jolie Biography - Childhood, Life Achievements & Timeline\",\n",
            "        \"image\": \"http://www.thefamouspeople.com/profiles/images/angelina-jolie-5.jpg\",\n",
            "        \"thumbnail\": \"https://tse3.mm.bing.net/th?id=OIP.ClTG_3bUu9hNAyGutgdNEQHaGL&pid=Api\",\n",
            "        \"url\": \"http://www.thefamouspeople.com/profiles/angelina-jolie-voight-719.php\",\n",
            "        \"height\": 750,\n",
            "        \"width\": 900,\n",
            "        \"source\": \"Bing\"\n",
            "    },\n",
            "    {\n",
            "        \"title\": \"Angelina Jolie at 18th Annual Screen Actors Guild Awards in Los Angeles ...\",\n",
            "        \"image\": \"https://www.hawtcelebs.com/wp-content/uploads/2012/01/Angelina-Jolie-at-18th-Annual-Screen-Actors-Guild-Awards-in-Los-Angeles-30.jpg\",\n",
            "        \"thumbnail\": \"https://tse2.mm.bing.net/th?id=OIP.HpUyIAPfQ74csfmhDpFG5QHaLH&pid=Api\",\n",
            "        \"url\": \"https://www.hawtcelebs.com/angelina-jolie-at-18th-annual-screen-actors-guild-awards-in-los-angeles/\",\n",
            "        \"height\": 2400,\n",
            "        \"width\": 1600,\n",
            "        \"source\": \"Bing\"\n",
            "    },\n",
            "    {\n",
            "        \"title\": \"File:Angelina-Jolie cropped.jpg - Wikimedia Commons\",\n",
            "        \"image\": \"http://upload.wikimedia.org/wikipedia/commons/c/cc/Angelina-Jolie_cropped.jpg\",\n",
            "        \"thumbnail\": \"https://tse4.mm.bing.net/th?id=OIP.osWxWo0nTz4-Zep2BVELdAHaI4&pid=Api\",\n",
            "        \"url\": \"http://commons.wikimedia.org/wiki/File:Angelina-Jolie_cropped.jpg\",\n",
            "        \"height\": 1467,\n",
            "        \"width\": 1224,\n",
            "        \"source\": \"Bing\"\n",
            "    },\n",
            "    {\n",
            "        \"title\": \"Angelina Jolie - Wikipedia, wolna encyklopedia\",\n",
            "        \"image\": \"https://upload.wikimedia.org/wikipedia/commons/thumb/7/7e/Angelina_Jolie_March_2017.jpg/1200px-Angelina_Jolie_March_2017.jpg\",\n",
            "        \"thumbnail\": \"https://tse3.mm.bing.net/th?id=OIP.UzNenoiwNht9szduBFXKYwHaJD&pid=Api\",\n",
            "        \"url\": \"https://pl.wikipedia.org/wiki/Angelina_Jolie\",\n",
            "        \"height\": 1468,\n",
            "        \"width\": 1200,\n",
            "        \"source\": \"Bing\"\n",
            "    },\n",
            "    {\n",
            "        \"title\": \"Angelina Jolie photo gallery - high quality pics of Angelina Jolie ...\",\n",
            "        \"image\": \"http://www.theplace2.ru/archive/angelina_jolie/img/940full_angelina_jol-1.jpg\",\n",
            "        \"thumbnail\": \"https://tse1.mm.bing.net/th?id=OIP.TpPbnrLJeY7NXTLkEFS9WQHaKG&pid=Api\",\n",
            "        \"url\": \"http://www.theplace2.ru/photos/Angelina-Jolie-md36/\",\n",
            "        \"height\": 1283,\n",
            "        \"width\": 940,\n",
            "        \"source\": \"Bing\"\n",
            "    }\n",
            "]\n"
          ]
        }
      ]
    }
  ]
}